{
 "cells": [
  {
   "cell_type": "code",
   "execution_count": 104,
   "metadata": {},
   "outputs": [],
   "source": [
    "import pandas as pd\n",
    "import re\n",
    "import matplotlib\n",
    "import numpy as np\n",
    "import matplotlib.pyplot as plt\n",
    "from wordcloud import WordCloud"
   ]
  },
  {
   "cell_type": "code",
   "execution_count": 2,
   "metadata": {},
   "outputs": [],
   "source": [
    "meta_data = 'meta_data.json'\n",
    "df = pd.read_json(meta_data)"
   ]
  },
  {
   "cell_type": "code",
   "execution_count": 3,
   "metadata": {
    "scrolled": true
   },
   "outputs": [
    {
     "data": {
      "text/html": [
       "<div>\n",
       "<style scoped>\n",
       "    .dataframe tbody tr th:only-of-type {\n",
       "        vertical-align: middle;\n",
       "    }\n",
       "\n",
       "    .dataframe tbody tr th {\n",
       "        vertical-align: top;\n",
       "    }\n",
       "\n",
       "    .dataframe thead th {\n",
       "        text-align: right;\n",
       "    }\n",
       "</style>\n",
       "<table border=\"1\" class=\"dataframe\">\n",
       "  <thead>\n",
       "    <tr style=\"text-align: right;\">\n",
       "      <th></th>\n",
       "      <th>database</th>\n",
       "      <th>url</th>\n",
       "      <th>title</th>\n",
       "      <th>authors</th>\n",
       "      <th>journal</th>\n",
       "      <th>citations</th>\n",
       "      <th>publish_date</th>\n",
       "      <th>keywords</th>\n",
       "      <th>doi</th>\n",
       "      <th>journal_impact_factor</th>\n",
       "    </tr>\n",
       "  </thead>\n",
       "  <tbody>\n",
       "    <tr>\n",
       "      <td>0</td>\n",
       "      <td>ieeexplore</td>\n",
       "      <td>https://ieeexplore.ieee.org/document/6027518</td>\n",
       "      <td>A visualization and modeling tool for security...</td>\n",
       "      <td>[Reijo M. Savola ;, Petri Heinonen]</td>\n",
       "      <td>2011 Information Security for South Africa</td>\n",
       "      <td>10.0</td>\n",
       "      <td>2011</td>\n",
       "      <td>[Measurement, Visualization, Authentication, D...</td>\n",
       "      <td>10.1109/ISSA.2011.6027518</td>\n",
       "      <td>NaN</td>\n",
       "    </tr>\n",
       "    <tr>\n",
       "      <td>1</td>\n",
       "      <td>sciencedirect</td>\n",
       "      <td>https://www.sciencedirect.com/science/article/...</td>\n",
       "      <td>Information security requirements – Interpreti...</td>\n",
       "      <td>[{'surname': 'Gerber', 'first_name': 'Mariana'...</td>\n",
       "      <td>Computers &amp; Security</td>\n",
       "      <td>21.0</td>\n",
       "      <td>5–6</td>\n",
       "      <td>[Information security, Information security ma...</td>\n",
       "      <td>https://doi.org/10.1016/j.cose.2008.07.009</td>\n",
       "      <td>3.062</td>\n",
       "    </tr>\n",
       "    <tr>\n",
       "      <td>2</td>\n",
       "      <td>ieeexplore</td>\n",
       "      <td>https://ieeexplore.ieee.org/document/7166125</td>\n",
       "      <td>Cyber security operations centre: Security mon...</td>\n",
       "      <td>[Cyril Onwubiko]</td>\n",
       "      <td>2015 International Conference on Cyber Situati...</td>\n",
       "      <td>6.0</td>\n",
       "      <td>2015</td>\n",
       "      <td>[Monitoring, Business, Computer crime, System-...</td>\n",
       "      <td>10.1109/CyberSA.2015.7166125</td>\n",
       "      <td>NaN</td>\n",
       "    </tr>\n",
       "    <tr>\n",
       "      <td>3</td>\n",
       "      <td>sciencedirect</td>\n",
       "      <td>https://www.sciencedirect.com/science/article/...</td>\n",
       "      <td>Security Management Standards: A Mapping</td>\n",
       "      <td>[{'surname': 'Haufe', 'first_name': 'Knut'}, {...</td>\n",
       "      <td>Procedia Computer Science</td>\n",
       "      <td>NaN</td>\n",
       "      <td>2016</td>\n",
       "      <td>[Information Security, ISMS, Mapping, Processe...</td>\n",
       "      <td>https://doi.org/10.1016/j.procs.2016.09.221</td>\n",
       "      <td>NaN</td>\n",
       "    </tr>\n",
       "    <tr>\n",
       "      <td>4</td>\n",
       "      <td>sciencedirect</td>\n",
       "      <td>https://www.sciencedirect.com/science/article/...</td>\n",
       "      <td>Mapping the field of software life cycle secur...</td>\n",
       "      <td>[{'surname': 'Morrison', 'first_name': 'Patric...</td>\n",
       "      <td>Information and Software Technology</td>\n",
       "      <td>3.0</td>\n",
       "      <td>2018</td>\n",
       "      <td>[Metrics, Measurement, Security]</td>\n",
       "      <td>https://doi.org/10.1016/j.infsof.2018.05.011</td>\n",
       "      <td>2.921</td>\n",
       "    </tr>\n",
       "    <tr>\n",
       "      <td>...</td>\n",
       "      <td>...</td>\n",
       "      <td>...</td>\n",
       "      <td>...</td>\n",
       "      <td>...</td>\n",
       "      <td>...</td>\n",
       "      <td>...</td>\n",
       "      <td>...</td>\n",
       "      <td>...</td>\n",
       "      <td>...</td>\n",
       "      <td>...</td>\n",
       "    </tr>\n",
       "    <tr>\n",
       "      <td>137</td>\n",
       "      <td>sciencedirect</td>\n",
       "      <td>https://www.sciencedirect.com/science/article/...</td>\n",
       "      <td>A survey of security issues for cloud computing</td>\n",
       "      <td>[{'surname': 'Khan', 'first_name': 'Minhaj Ahm...</td>\n",
       "      <td>Journal of Network and Computer Applications</td>\n",
       "      <td>77.0</td>\n",
       "      <td>2016</td>\n",
       "      <td>[Cloud security, Cloud computing, Denial-of-se...</td>\n",
       "      <td>https://doi.org/10.1016/j.jnca.2016.05.010</td>\n",
       "      <td>5.273</td>\n",
       "    </tr>\n",
       "    <tr>\n",
       "      <td>138</td>\n",
       "      <td>ieeexplore</td>\n",
       "      <td>https://ieeexplore.ieee.org/document/7921989</td>\n",
       "      <td>A framework for measurability of security</td>\n",
       "      <td>[Seraj Fayyad ;, Josef Noll]</td>\n",
       "      <td>2017 8th International Conference on Informati...</td>\n",
       "      <td>1.0</td>\n",
       "      <td>2017</td>\n",
       "      <td>[Security, Measurement, Databases, Privacy, Sy...</td>\n",
       "      <td>10.1109/IACS.2017.7921989</td>\n",
       "      <td>NaN</td>\n",
       "    </tr>\n",
       "    <tr>\n",
       "      <td>139</td>\n",
       "      <td>ieeexplore</td>\n",
       "      <td>https://ieeexplore.ieee.org/document/5467019</td>\n",
       "      <td>A Formal Approach Enabling Risk-Aware Business...</td>\n",
       "      <td>[Simon Tjoa ;, Stefan Jakoubi ;, Gernot Goluch...</td>\n",
       "      <td>IEEE Transactions on Services Computing</td>\n",
       "      <td>15.0</td>\n",
       "      <td>2010</td>\n",
       "      <td>[Security, Unified modeling language, Risk man...</td>\n",
       "      <td>10.1109/TSC.2010.17</td>\n",
       "      <td>5.707</td>\n",
       "    </tr>\n",
       "    <tr>\n",
       "      <td>140</td>\n",
       "      <td>ieeexplore</td>\n",
       "      <td>https://ieeexplore.ieee.org/document/7367050</td>\n",
       "      <td>The effectiveness of corporate culture toward ...</td>\n",
       "      <td>[Abdullah Almubark ;, Nobutoshi Hatanaka ;, Os...</td>\n",
       "      <td>2015 World Congress on Information Technology ...</td>\n",
       "      <td>133.0</td>\n",
       "      <td>2015</td>\n",
       "      <td>[Decision support systems, Information securit...</td>\n",
       "      <td>10.1109/WCITCA.2015.7367050</td>\n",
       "      <td>NaN</td>\n",
       "    </tr>\n",
       "    <tr>\n",
       "      <td>141</td>\n",
       "      <td>sciencedirect</td>\n",
       "      <td>https://www.sciencedirect.com/science/article/...</td>\n",
       "      <td>An evaluation framework for network security v...</td>\n",
       "      <td>[{'surname': 'Sharafaldin', 'first_name': 'Ima...</td>\n",
       "      <td>Computers &amp; Security</td>\n",
       "      <td>1.0</td>\n",
       "      <td>2019</td>\n",
       "      <td>[Information visualization, Network attacks, E...</td>\n",
       "      <td>https://doi.org/10.1016/j.cose.2019.03.005</td>\n",
       "      <td>3.062</td>\n",
       "    </tr>\n",
       "  </tbody>\n",
       "</table>\n",
       "<p>142 rows × 10 columns</p>\n",
       "</div>"
      ],
      "text/plain": [
       "          database                                                url  \\\n",
       "0       ieeexplore       https://ieeexplore.ieee.org/document/6027518   \n",
       "1    sciencedirect  https://www.sciencedirect.com/science/article/...   \n",
       "2       ieeexplore       https://ieeexplore.ieee.org/document/7166125   \n",
       "3    sciencedirect  https://www.sciencedirect.com/science/article/...   \n",
       "4    sciencedirect  https://www.sciencedirect.com/science/article/...   \n",
       "..             ...                                                ...   \n",
       "137  sciencedirect  https://www.sciencedirect.com/science/article/...   \n",
       "138     ieeexplore       https://ieeexplore.ieee.org/document/7921989   \n",
       "139     ieeexplore       https://ieeexplore.ieee.org/document/5467019   \n",
       "140     ieeexplore       https://ieeexplore.ieee.org/document/7367050   \n",
       "141  sciencedirect  https://www.sciencedirect.com/science/article/...   \n",
       "\n",
       "                                                 title  \\\n",
       "0    A visualization and modeling tool for security...   \n",
       "1    Information security requirements – Interpreti...   \n",
       "2    Cyber security operations centre: Security mon...   \n",
       "3             Security Management Standards: A Mapping   \n",
       "4    Mapping the field of software life cycle secur...   \n",
       "..                                                 ...   \n",
       "137    A survey of security issues for cloud computing   \n",
       "138          A framework for measurability of security   \n",
       "139  A Formal Approach Enabling Risk-Aware Business...   \n",
       "140  The effectiveness of corporate culture toward ...   \n",
       "141  An evaluation framework for network security v...   \n",
       "\n",
       "                                               authors  \\\n",
       "0                  [Reijo M. Savola ;, Petri Heinonen]   \n",
       "1    [{'surname': 'Gerber', 'first_name': 'Mariana'...   \n",
       "2                                     [Cyril Onwubiko]   \n",
       "3    [{'surname': 'Haufe', 'first_name': 'Knut'}, {...   \n",
       "4    [{'surname': 'Morrison', 'first_name': 'Patric...   \n",
       "..                                                 ...   \n",
       "137  [{'surname': 'Khan', 'first_name': 'Minhaj Ahm...   \n",
       "138                       [Seraj Fayyad ;, Josef Noll]   \n",
       "139  [Simon Tjoa ;, Stefan Jakoubi ;, Gernot Goluch...   \n",
       "140  [Abdullah Almubark ;, Nobutoshi Hatanaka ;, Os...   \n",
       "141  [{'surname': 'Sharafaldin', 'first_name': 'Ima...   \n",
       "\n",
       "                                               journal  citations  \\\n",
       "0           2011 Information Security for South Africa       10.0   \n",
       "1                                 Computers & Security       21.0   \n",
       "2    2015 International Conference on Cyber Situati...        6.0   \n",
       "3                            Procedia Computer Science        NaN   \n",
       "4                  Information and Software Technology        3.0   \n",
       "..                                                 ...        ...   \n",
       "137       Journal of Network and Computer Applications       77.0   \n",
       "138  2017 8th International Conference on Informati...        1.0   \n",
       "139            IEEE Transactions on Services Computing       15.0   \n",
       "140  2015 World Congress on Information Technology ...      133.0   \n",
       "141                               Computers & Security        1.0   \n",
       "\n",
       "    publish_date                                           keywords  \\\n",
       "0           2011  [Measurement, Visualization, Authentication, D...   \n",
       "1            5–6  [Information security, Information security ma...   \n",
       "2           2015  [Monitoring, Business, Computer crime, System-...   \n",
       "3           2016  [Information Security, ISMS, Mapping, Processe...   \n",
       "4           2018                   [Metrics, Measurement, Security]   \n",
       "..           ...                                                ...   \n",
       "137         2016  [Cloud security, Cloud computing, Denial-of-se...   \n",
       "138         2017  [Security, Measurement, Databases, Privacy, Sy...   \n",
       "139         2010  [Security, Unified modeling language, Risk man...   \n",
       "140         2015  [Decision support systems, Information securit...   \n",
       "141         2019  [Information visualization, Network attacks, E...   \n",
       "\n",
       "                                              doi  journal_impact_factor  \n",
       "0                       10.1109/ISSA.2011.6027518                    NaN  \n",
       "1      https://doi.org/10.1016/j.cose.2008.07.009                  3.062  \n",
       "2                    10.1109/CyberSA.2015.7166125                    NaN  \n",
       "3     https://doi.org/10.1016/j.procs.2016.09.221                    NaN  \n",
       "4    https://doi.org/10.1016/j.infsof.2018.05.011                  2.921  \n",
       "..                                            ...                    ...  \n",
       "137    https://doi.org/10.1016/j.jnca.2016.05.010                  5.273  \n",
       "138                     10.1109/IACS.2017.7921989                    NaN  \n",
       "139                           10.1109/TSC.2010.17                  5.707  \n",
       "140                   10.1109/WCITCA.2015.7367050                    NaN  \n",
       "141    https://doi.org/10.1016/j.cose.2019.03.005                  3.062  \n",
       "\n",
       "[142 rows x 10 columns]"
      ]
     },
     "execution_count": 3,
     "metadata": {},
     "output_type": "execute_result"
    }
   ],
   "source": [
    "df"
   ]
  },
  {
   "cell_type": "code",
   "execution_count": 4,
   "metadata": {},
   "outputs": [
    {
     "name": "stdout",
     "output_type": "stream",
     "text": [
      "<class 'pandas.core.frame.DataFrame'>\n",
      "RangeIndex: 142 entries, 0 to 141\n",
      "Data columns (total 10 columns):\n",
      "database                 142 non-null object\n",
      "url                      142 non-null object\n",
      "title                    142 non-null object\n",
      "authors                  142 non-null object\n",
      "journal                  142 non-null object\n",
      "citations                135 non-null float64\n",
      "publish_date             140 non-null object\n",
      "keywords                 142 non-null object\n",
      "doi                      139 non-null object\n",
      "journal_impact_factor    51 non-null float64\n",
      "dtypes: float64(2), object(8)\n",
      "memory usage: 11.2+ KB\n"
     ]
    }
   ],
   "source": [
    "df.info()"
   ]
  },
  {
   "cell_type": "code",
   "execution_count": null,
   "metadata": {},
   "outputs": [],
   "source": []
  },
  {
   "cell_type": "code",
   "execution_count": 5,
   "metadata": {
    "scrolled": true
   },
   "outputs": [
    {
     "name": "stderr",
     "output_type": "stream",
     "text": [
      "/home/zwoelfer/.local/lib/python3.7/site-packages/ipykernel_launcher.py:5: SettingWithCopyWarning: \n",
      "A value is trying to be set on a copy of a slice from a DataFrame\n",
      "\n",
      "See the caveats in the documentation: http://pandas.pydata.org/pandas-docs/stable/user_guide/indexing.html#returning-a-view-versus-a-copy\n",
      "  \"\"\"\n",
      "/home/zwoelfer/.local/lib/python3.7/site-packages/ipykernel_launcher.py:6: SettingWithCopyWarning: \n",
      "A value is trying to be set on a copy of a slice from a DataFrame\n",
      "\n",
      "See the caveats in the documentation: http://pandas.pydata.org/pandas-docs/stable/user_guide/indexing.html#returning-a-view-versus-a-copy\n",
      "  \n",
      "/home/zwoelfer/.local/lib/python3.7/site-packages/ipykernel_launcher.py:7: SettingWithCopyWarning: \n",
      "A value is trying to be set on a copy of a slice from a DataFrame\n",
      "\n",
      "See the caveats in the documentation: http://pandas.pydata.org/pandas-docs/stable/user_guide/indexing.html#returning-a-view-versus-a-copy\n",
      "  import sys\n",
      "/home/zwoelfer/.local/lib/python3.7/site-packages/ipykernel_launcher.py:8: SettingWithCopyWarning: \n",
      "A value is trying to be set on a copy of a slice from a DataFrame\n",
      "\n",
      "See the caveats in the documentation: http://pandas.pydata.org/pandas-docs/stable/user_guide/indexing.html#returning-a-view-versus-a-copy\n",
      "  \n",
      "/home/zwoelfer/.local/lib/python3.7/site-packages/ipykernel_launcher.py:9: SettingWithCopyWarning: \n",
      "A value is trying to be set on a copy of a slice from a DataFrame\n",
      "\n",
      "See the caveats in the documentation: http://pandas.pydata.org/pandas-docs/stable/user_guide/indexing.html#returning-a-view-versus-a-copy\n",
      "  if __name__ == '__main__':\n",
      "/home/zwoelfer/.local/lib/python3.7/site-packages/ipykernel_launcher.py:10: SettingWithCopyWarning: \n",
      "A value is trying to be set on a copy of a slice from a DataFrame\n",
      "\n",
      "See the caveats in the documentation: http://pandas.pydata.org/pandas-docs/stable/user_guide/indexing.html#returning-a-view-versus-a-copy\n",
      "  # Remove the CWD from sys.path while we load stuff.\n",
      "/home/zwoelfer/.local/lib/python3.7/site-packages/ipykernel_launcher.py:11: SettingWithCopyWarning: \n",
      "A value is trying to be set on a copy of a slice from a DataFrame\n",
      "\n",
      "See the caveats in the documentation: http://pandas.pydata.org/pandas-docs/stable/user_guide/indexing.html#returning-a-view-versus-a-copy\n",
      "  # This is added back by InteractiveShellApp.init_path()\n",
      "/home/zwoelfer/.local/lib/python3.7/site-packages/ipykernel_launcher.py:12: SettingWithCopyWarning: \n",
      "A value is trying to be set on a copy of a slice from a DataFrame\n",
      "\n",
      "See the caveats in the documentation: http://pandas.pydata.org/pandas-docs/stable/user_guide/indexing.html#returning-a-view-versus-a-copy\n",
      "  if sys.path[0] == '':\n",
      "/home/zwoelfer/.local/lib/python3.7/site-packages/ipykernel_launcher.py:13: SettingWithCopyWarning: \n",
      "A value is trying to be set on a copy of a slice from a DataFrame\n",
      "\n",
      "See the caveats in the documentation: http://pandas.pydata.org/pandas-docs/stable/user_guide/indexing.html#returning-a-view-versus-a-copy\n",
      "  del sys.path[0]\n",
      "/home/zwoelfer/.local/lib/python3.7/site-packages/ipykernel_launcher.py:14: SettingWithCopyWarning: \n",
      "A value is trying to be set on a copy of a slice from a DataFrame\n",
      "\n",
      "See the caveats in the documentation: http://pandas.pydata.org/pandas-docs/stable/user_guide/indexing.html#returning-a-view-versus-a-copy\n",
      "  \n",
      "/home/zwoelfer/.local/lib/python3.7/site-packages/ipykernel_launcher.py:15: SettingWithCopyWarning: \n",
      "A value is trying to be set on a copy of a slice from a DataFrame\n",
      "\n",
      "See the caveats in the documentation: http://pandas.pydata.org/pandas-docs/stable/user_guide/indexing.html#returning-a-view-versus-a-copy\n",
      "  from ipykernel import kernelapp as app\n",
      "/home/zwoelfer/.local/lib/python3.7/site-packages/ipykernel_launcher.py:16: SettingWithCopyWarning: \n",
      "A value is trying to be set on a copy of a slice from a DataFrame\n",
      "\n",
      "See the caveats in the documentation: http://pandas.pydata.org/pandas-docs/stable/user_guide/indexing.html#returning-a-view-versus-a-copy\n",
      "  app.launch_new_instance()\n",
      "/home/zwoelfer/.local/lib/python3.7/site-packages/ipykernel_launcher.py:17: SettingWithCopyWarning: \n",
      "A value is trying to be set on a copy of a slice from a DataFrame\n",
      "\n",
      "See the caveats in the documentation: http://pandas.pydata.org/pandas-docs/stable/user_guide/indexing.html#returning-a-view-versus-a-copy\n",
      "/home/zwoelfer/.local/lib/python3.7/site-packages/ipykernel_launcher.py:18: SettingWithCopyWarning: \n",
      "A value is trying to be set on a copy of a slice from a DataFrame\n",
      "\n",
      "See the caveats in the documentation: http://pandas.pydata.org/pandas-docs/stable/user_guide/indexing.html#returning-a-view-versus-a-copy\n",
      "/home/zwoelfer/.local/lib/python3.7/site-packages/ipykernel_launcher.py:19: SettingWithCopyWarning: \n",
      "A value is trying to be set on a copy of a slice from a DataFrame\n",
      "\n",
      "See the caveats in the documentation: http://pandas.pydata.org/pandas-docs/stable/user_guide/indexing.html#returning-a-view-versus-a-copy\n",
      "/home/zwoelfer/.local/lib/python3.7/site-packages/pandas/core/indexing.py:494: SettingWithCopyWarning: \n",
      "A value is trying to be set on a copy of a slice from a DataFrame.\n",
      "Try using .loc[row_indexer,col_indexer] = value instead\n",
      "\n",
      "See the caveats in the documentation: http://pandas.pydata.org/pandas-docs/stable/user_guide/indexing.html#returning-a-view-versus-a-copy\n",
      "  self.obj[item] = s\n",
      "/home/zwoelfer/.local/lib/python3.7/site-packages/ipykernel_launcher.py:43: SettingWithCopyWarning: \n",
      "A value is trying to be set on a copy of a slice from a DataFrame.\n",
      "Try using .loc[row_indexer,col_indexer] = value instead\n",
      "\n",
      "See the caveats in the documentation: http://pandas.pydata.org/pandas-docs/stable/user_guide/indexing.html#returning-a-view-versus-a-copy\n"
     ]
    }
   ],
   "source": [
    "# Optimizes the database column to categorys\n",
    "df[\"database\"] = df[\"database\"].astype('category')\n",
    "\n",
    "# Reassigned the publish date\n",
    "df[\"publish_date\"][1] = 2008\n",
    "df[\"publish_date\"][6] = 2018\n",
    "df[\"publish_date\"][17] = 2015\n",
    "df[\"publish_date\"][20] = 2018\n",
    "df[\"publish_date\"][62] = 2018\n",
    "df[\"publish_date\"][25] = 2013\n",
    "df[\"publish_date\"][31] = 2017\n",
    "df[\"publish_date\"][39] = 2010\n",
    "df[\"publish_date\"][53] = 2019\n",
    "df[\"publish_date\"][74] = 2017\n",
    "df[\"publish_date\"][80] = 2010\n",
    "df[\"publish_date\"][89] = 2018\n",
    "df[\"publish_date\"][110] = 2012\n",
    "df[\"publish_date\"][135] = 2017\n",
    "df[\"publish_date\"][87] = 2018\n",
    "\n",
    "# All Integers for column publish date\n",
    "df[\"publish_date\"] = df[\"publish_date\"].astype('int')\n",
    "df[\"citations\"].fillna(0, inplace=True)\n",
    "df[\"citations\"] = df[\"citations\"].astype('int')\n",
    "df[\"journal_impact_factor\"].fillna(0, inplace=True)\n",
    "\n",
    "# Rename columns\n",
    "df.rename(columns={\"publish_date\": \"year\", \"journal_impact_factor\": \"impact_factor\"}, inplace=True)\n",
    "\n",
    "# Drop duplicated papers\n",
    "df = df.drop_duplicates(\"doi\")\n",
    "\n",
    "# Removing url and doi column, since it isn't needed\n",
    "# df = df.drop([\"url\", \"doi\"], axis=1)\n",
    "\n",
    "# Replacing list of dicts in authors column for sciencedirect papers with list of authors names\n",
    "scidir_mask = df[\"database\"] == 'sciencedirect'\n",
    "f = lambda x: [f\"{y['first_name']} {y['surname']}\" for y in x]\n",
    "df.loc[scidir_mask, 'authors'] = df.loc[scidir_mask, 'authors'].apply(f)\n",
    "\n",
    "# Striping the keywords from whitespaces\n",
    "keyword_striping = lambda x: [keyw.strip(' ') for keyw in x]\n",
    "df[\"keywords\"] = df.loc[:, \"keywords\"].apply(keyword_striping)\n",
    "               \n",
    "# Dividing keywords into multiple columns:\n",
    "key_func = lambda x: pd.Series({\"keywords{}\".format(i):\n",
    "                       x.keywords[i] for i in range(len(x.keywords))})\n",
    "\n",
    "df = pd.concat([df.apply(key_func,axis=1), df],axis=1)              \n",
    "\n",
    "# Striping the authors names from whitespaces and semicolons ';'\n",
    "authors_function = lambda x: [auth.strip('; ') for auth in x]\n",
    "df[\"authors\"] = df.loc[:, \"authors\"].apply(authors_function)\n",
    "               \n",
    "# Dividing authors into multiple authors columns:\n",
    "f =  lambda x: pd.Series({\"author{}\".format(i):\n",
    "                          x.authors[i] for i in range(len(x.authors))})\n",
    "\n",
    "df = pd.concat([df.apply(f,axis=1), df],axis=1)\n",
    "               \n",
    "#Removing therefore the original \"authors\" axis\n",
    "df = df.drop([\"authors\", \"keywords\", \"doi\", \"url\"], axis=1)"
   ]
  },
  {
   "cell_type": "code",
   "execution_count": 6,
   "metadata": {
    "scrolled": true
   },
   "outputs": [
    {
     "data": {
      "text/html": [
       "<div>\n",
       "<style scoped>\n",
       "    .dataframe tbody tr th:only-of-type {\n",
       "        vertical-align: middle;\n",
       "    }\n",
       "\n",
       "    .dataframe tbody tr th {\n",
       "        vertical-align: top;\n",
       "    }\n",
       "\n",
       "    .dataframe thead th {\n",
       "        text-align: right;\n",
       "    }\n",
       "</style>\n",
       "<table border=\"1\" class=\"dataframe\">\n",
       "  <thead>\n",
       "    <tr style=\"text-align: right;\">\n",
       "      <th></th>\n",
       "      <th>author0</th>\n",
       "      <th>author1</th>\n",
       "      <th>author2</th>\n",
       "      <th>author3</th>\n",
       "      <th>author4</th>\n",
       "      <th>author5</th>\n",
       "      <th>keywords0</th>\n",
       "      <th>keywords1</th>\n",
       "      <th>keywords10</th>\n",
       "      <th>keywords11</th>\n",
       "      <th>...</th>\n",
       "      <th>keywords6</th>\n",
       "      <th>keywords7</th>\n",
       "      <th>keywords8</th>\n",
       "      <th>keywords9</th>\n",
       "      <th>database</th>\n",
       "      <th>title</th>\n",
       "      <th>journal</th>\n",
       "      <th>citations</th>\n",
       "      <th>year</th>\n",
       "      <th>impact_factor</th>\n",
       "    </tr>\n",
       "  </thead>\n",
       "  <tbody>\n",
       "    <tr>\n",
       "      <td>0</td>\n",
       "      <td>Reijo M. Savola</td>\n",
       "      <td>Petri Heinonen</td>\n",
       "      <td>NaN</td>\n",
       "      <td>NaN</td>\n",
       "      <td>NaN</td>\n",
       "      <td>NaN</td>\n",
       "      <td>Measurement</td>\n",
       "      <td>Visualization</td>\n",
       "      <td>NaN</td>\n",
       "      <td>NaN</td>\n",
       "      <td>...</td>\n",
       "      <td>security metrics</td>\n",
       "      <td>visualization</td>\n",
       "      <td>security assurance</td>\n",
       "      <td>risk management</td>\n",
       "      <td>ieeexplore</td>\n",
       "      <td>A visualization and modeling tool for security...</td>\n",
       "      <td>2011 Information Security for South Africa</td>\n",
       "      <td>10</td>\n",
       "      <td>2011</td>\n",
       "      <td>0.000</td>\n",
       "    </tr>\n",
       "    <tr>\n",
       "      <td>1</td>\n",
       "      <td>Mariana Gerber</td>\n",
       "      <td>Rossouw von Solms</td>\n",
       "      <td>NaN</td>\n",
       "      <td>NaN</td>\n",
       "      <td>NaN</td>\n",
       "      <td>NaN</td>\n",
       "      <td>Information security</td>\n",
       "      <td>Information security management</td>\n",
       "      <td>NaN</td>\n",
       "      <td>NaN</td>\n",
       "      <td>...</td>\n",
       "      <td>Compliance</td>\n",
       "      <td>NaN</td>\n",
       "      <td>NaN</td>\n",
       "      <td>NaN</td>\n",
       "      <td>sciencedirect</td>\n",
       "      <td>Information security requirements – Interpreti...</td>\n",
       "      <td>Computers &amp; Security</td>\n",
       "      <td>21</td>\n",
       "      <td>2008</td>\n",
       "      <td>3.062</td>\n",
       "    </tr>\n",
       "    <tr>\n",
       "      <td>2</td>\n",
       "      <td>Cyril Onwubiko</td>\n",
       "      <td>NaN</td>\n",
       "      <td>NaN</td>\n",
       "      <td>NaN</td>\n",
       "      <td>NaN</td>\n",
       "      <td>NaN</td>\n",
       "      <td>Monitoring</td>\n",
       "      <td>Business</td>\n",
       "      <td>CyberSA</td>\n",
       "      <td>Log Source</td>\n",
       "      <td>...</td>\n",
       "      <td>CSOC</td>\n",
       "      <td>SOC</td>\n",
       "      <td>Cyber Incident Response</td>\n",
       "      <td>Cyber Situational Awareness</td>\n",
       "      <td>ieeexplore</td>\n",
       "      <td>Cyber security operations centre: Security mon...</td>\n",
       "      <td>2015 International Conference on Cyber Situati...</td>\n",
       "      <td>6</td>\n",
       "      <td>2015</td>\n",
       "      <td>0.000</td>\n",
       "    </tr>\n",
       "    <tr>\n",
       "      <td>3</td>\n",
       "      <td>Knut Haufe</td>\n",
       "      <td>Ricardo Colomo-Palacios</td>\n",
       "      <td>Srdan Dzombeta</td>\n",
       "      <td>Knud Brandis</td>\n",
       "      <td>Vladimir Stantchev</td>\n",
       "      <td>NaN</td>\n",
       "      <td>Information Security</td>\n",
       "      <td>ISMS</td>\n",
       "      <td>NaN</td>\n",
       "      <td>NaN</td>\n",
       "      <td>...</td>\n",
       "      <td>NaN</td>\n",
       "      <td>NaN</td>\n",
       "      <td>NaN</td>\n",
       "      <td>NaN</td>\n",
       "      <td>sciencedirect</td>\n",
       "      <td>Security Management Standards: A Mapping</td>\n",
       "      <td>Procedia Computer Science</td>\n",
       "      <td>0</td>\n",
       "      <td>2016</td>\n",
       "      <td>0.000</td>\n",
       "    </tr>\n",
       "    <tr>\n",
       "      <td>4</td>\n",
       "      <td>Patrick Morrison</td>\n",
       "      <td>David Moye</td>\n",
       "      <td>Rahul Pandita</td>\n",
       "      <td>Laurie Williams</td>\n",
       "      <td>NaN</td>\n",
       "      <td>NaN</td>\n",
       "      <td>Metrics</td>\n",
       "      <td>Measurement</td>\n",
       "      <td>NaN</td>\n",
       "      <td>NaN</td>\n",
       "      <td>...</td>\n",
       "      <td>NaN</td>\n",
       "      <td>NaN</td>\n",
       "      <td>NaN</td>\n",
       "      <td>NaN</td>\n",
       "      <td>sciencedirect</td>\n",
       "      <td>Mapping the field of software life cycle secur...</td>\n",
       "      <td>Information and Software Technology</td>\n",
       "      <td>3</td>\n",
       "      <td>2018</td>\n",
       "      <td>2.921</td>\n",
       "    </tr>\n",
       "    <tr>\n",
       "      <td>...</td>\n",
       "      <td>...</td>\n",
       "      <td>...</td>\n",
       "      <td>...</td>\n",
       "      <td>...</td>\n",
       "      <td>...</td>\n",
       "      <td>...</td>\n",
       "      <td>...</td>\n",
       "      <td>...</td>\n",
       "      <td>...</td>\n",
       "      <td>...</td>\n",
       "      <td>...</td>\n",
       "      <td>...</td>\n",
       "      <td>...</td>\n",
       "      <td>...</td>\n",
       "      <td>...</td>\n",
       "      <td>...</td>\n",
       "      <td>...</td>\n",
       "      <td>...</td>\n",
       "      <td>...</td>\n",
       "      <td>...</td>\n",
       "      <td>...</td>\n",
       "    </tr>\n",
       "    <tr>\n",
       "      <td>137</td>\n",
       "      <td>Minhaj Ahmad Khan</td>\n",
       "      <td>NaN</td>\n",
       "      <td>NaN</td>\n",
       "      <td>NaN</td>\n",
       "      <td>NaN</td>\n",
       "      <td>NaN</td>\n",
       "      <td>Cloud security</td>\n",
       "      <td>Cloud computing</td>\n",
       "      <td>NaN</td>\n",
       "      <td>NaN</td>\n",
       "      <td>...</td>\n",
       "      <td>NaN</td>\n",
       "      <td>NaN</td>\n",
       "      <td>NaN</td>\n",
       "      <td>NaN</td>\n",
       "      <td>sciencedirect</td>\n",
       "      <td>A survey of security issues for cloud computing</td>\n",
       "      <td>Journal of Network and Computer Applications</td>\n",
       "      <td>77</td>\n",
       "      <td>2016</td>\n",
       "      <td>5.273</td>\n",
       "    </tr>\n",
       "    <tr>\n",
       "      <td>138</td>\n",
       "      <td>Seraj Fayyad</td>\n",
       "      <td>Josef Noll</td>\n",
       "      <td>NaN</td>\n",
       "      <td>NaN</td>\n",
       "      <td>NaN</td>\n",
       "      <td>NaN</td>\n",
       "      <td>Security</td>\n",
       "      <td>Measurement</td>\n",
       "      <td>security measurability</td>\n",
       "      <td>security evaluation</td>\n",
       "      <td>...</td>\n",
       "      <td>Communication systems</td>\n",
       "      <td>Internet of Things</td>\n",
       "      <td>Multi-Metrics</td>\n",
       "      <td>security enhancement</td>\n",
       "      <td>ieeexplore</td>\n",
       "      <td>A framework for measurability of security</td>\n",
       "      <td>2017 8th International Conference on Informati...</td>\n",
       "      <td>1</td>\n",
       "      <td>2017</td>\n",
       "      <td>0.000</td>\n",
       "    </tr>\n",
       "    <tr>\n",
       "      <td>139</td>\n",
       "      <td>Simon Tjoa</td>\n",
       "      <td>Stefan Jakoubi</td>\n",
       "      <td>Gernot Goluch</td>\n",
       "      <td>Gerhard Kitzler</td>\n",
       "      <td>Sigrun Goluch</td>\n",
       "      <td>Gerald Quirchmayr</td>\n",
       "      <td>Security</td>\n",
       "      <td>Unified modeling language</td>\n",
       "      <td>NaN</td>\n",
       "      <td>NaN</td>\n",
       "      <td>...</td>\n",
       "      <td>Business process reengineering</td>\n",
       "      <td>consulting and strategic planning</td>\n",
       "      <td>security enablement methods and tools.</td>\n",
       "      <td>NaN</td>\n",
       "      <td>ieeexplore</td>\n",
       "      <td>A Formal Approach Enabling Risk-Aware Business...</td>\n",
       "      <td>IEEE Transactions on Services Computing</td>\n",
       "      <td>15</td>\n",
       "      <td>2010</td>\n",
       "      <td>5.707</td>\n",
       "    </tr>\n",
       "    <tr>\n",
       "      <td>140</td>\n",
       "      <td>Abdullah Almubark</td>\n",
       "      <td>Nobutoshi Hatanaka</td>\n",
       "      <td>Osamu Uchida</td>\n",
       "      <td>Yukiyo Ikeda</td>\n",
       "      <td>NaN</td>\n",
       "      <td>NaN</td>\n",
       "      <td>Decision support systems</td>\n",
       "      <td>Information security</td>\n",
       "      <td>NaN</td>\n",
       "      <td>NaN</td>\n",
       "      <td>...</td>\n",
       "      <td>NaN</td>\n",
       "      <td>NaN</td>\n",
       "      <td>NaN</td>\n",
       "      <td>NaN</td>\n",
       "      <td>ieeexplore</td>\n",
       "      <td>The effectiveness of corporate culture toward ...</td>\n",
       "      <td>2015 World Congress on Information Technology ...</td>\n",
       "      <td>133</td>\n",
       "      <td>2015</td>\n",
       "      <td>0.000</td>\n",
       "    </tr>\n",
       "    <tr>\n",
       "      <td>141</td>\n",
       "      <td>Iman Sharafaldin</td>\n",
       "      <td>Arash Habibi Lashkari</td>\n",
       "      <td>Ali A. Ghorbani</td>\n",
       "      <td>NaN</td>\n",
       "      <td>NaN</td>\n",
       "      <td>NaN</td>\n",
       "      <td>Information visualization</td>\n",
       "      <td>Network attacks</td>\n",
       "      <td>NaN</td>\n",
       "      <td>NaN</td>\n",
       "      <td>...</td>\n",
       "      <td>NaN</td>\n",
       "      <td>NaN</td>\n",
       "      <td>NaN</td>\n",
       "      <td>NaN</td>\n",
       "      <td>sciencedirect</td>\n",
       "      <td>An evaluation framework for network security v...</td>\n",
       "      <td>Computers &amp; Security</td>\n",
       "      <td>1</td>\n",
       "      <td>2019</td>\n",
       "      <td>3.062</td>\n",
       "    </tr>\n",
       "  </tbody>\n",
       "</table>\n",
       "<p>132 rows × 34 columns</p>\n",
       "</div>"
      ],
      "text/plain": [
       "               author0                  author1          author2  \\\n",
       "0      Reijo M. Savola           Petri Heinonen              NaN   \n",
       "1       Mariana Gerber        Rossouw von Solms              NaN   \n",
       "2       Cyril Onwubiko                      NaN              NaN   \n",
       "3           Knut Haufe  Ricardo Colomo-Palacios   Srdan Dzombeta   \n",
       "4     Patrick Morrison               David Moye    Rahul Pandita   \n",
       "..                 ...                      ...              ...   \n",
       "137  Minhaj Ahmad Khan                      NaN              NaN   \n",
       "138       Seraj Fayyad               Josef Noll              NaN   \n",
       "139         Simon Tjoa           Stefan Jakoubi    Gernot Goluch   \n",
       "140  Abdullah Almubark       Nobutoshi Hatanaka     Osamu Uchida   \n",
       "141   Iman Sharafaldin    Arash Habibi Lashkari  Ali A. Ghorbani   \n",
       "\n",
       "             author3             author4            author5  \\\n",
       "0                NaN                 NaN                NaN   \n",
       "1                NaN                 NaN                NaN   \n",
       "2                NaN                 NaN                NaN   \n",
       "3       Knud Brandis  Vladimir Stantchev                NaN   \n",
       "4    Laurie Williams                 NaN                NaN   \n",
       "..               ...                 ...                ...   \n",
       "137              NaN                 NaN                NaN   \n",
       "138              NaN                 NaN                NaN   \n",
       "139  Gerhard Kitzler       Sigrun Goluch  Gerald Quirchmayr   \n",
       "140     Yukiyo Ikeda                 NaN                NaN   \n",
       "141              NaN                 NaN                NaN   \n",
       "\n",
       "                     keywords0                        keywords1  \\\n",
       "0                  Measurement                    Visualization   \n",
       "1         Information security  Information security management   \n",
       "2                   Monitoring                         Business   \n",
       "3         Information Security                             ISMS   \n",
       "4                      Metrics                      Measurement   \n",
       "..                         ...                              ...   \n",
       "137             Cloud security                  Cloud computing   \n",
       "138                   Security                      Measurement   \n",
       "139                   Security        Unified modeling language   \n",
       "140   Decision support systems             Information security   \n",
       "141  Information visualization                  Network attacks   \n",
       "\n",
       "                 keywords10           keywords11  ...  \\\n",
       "0                       NaN                  NaN  ...   \n",
       "1                       NaN                  NaN  ...   \n",
       "2                   CyberSA           Log Source  ...   \n",
       "3                       NaN                  NaN  ...   \n",
       "4                       NaN                  NaN  ...   \n",
       "..                      ...                  ...  ...   \n",
       "137                     NaN                  NaN  ...   \n",
       "138  security measurability  security evaluation  ...   \n",
       "139                     NaN                  NaN  ...   \n",
       "140                     NaN                  NaN  ...   \n",
       "141                     NaN                  NaN  ...   \n",
       "\n",
       "                          keywords6                          keywords7  \\\n",
       "0                  security metrics                      visualization   \n",
       "1                        Compliance                                NaN   \n",
       "2                              CSOC                                SOC   \n",
       "3                               NaN                                NaN   \n",
       "4                               NaN                                NaN   \n",
       "..                              ...                                ...   \n",
       "137                             NaN                                NaN   \n",
       "138           Communication systems                 Internet of Things   \n",
       "139  Business process reengineering  consulting and strategic planning   \n",
       "140                             NaN                                NaN   \n",
       "141                             NaN                                NaN   \n",
       "\n",
       "                                  keywords8                    keywords9  \\\n",
       "0                        security assurance              risk management   \n",
       "1                                       NaN                          NaN   \n",
       "2                   Cyber Incident Response  Cyber Situational Awareness   \n",
       "3                                       NaN                          NaN   \n",
       "4                                       NaN                          NaN   \n",
       "..                                      ...                          ...   \n",
       "137                                     NaN                          NaN   \n",
       "138                           Multi-Metrics         security enhancement   \n",
       "139  security enablement methods and tools.                          NaN   \n",
       "140                                     NaN                          NaN   \n",
       "141                                     NaN                          NaN   \n",
       "\n",
       "          database                                              title  \\\n",
       "0       ieeexplore  A visualization and modeling tool for security...   \n",
       "1    sciencedirect  Information security requirements – Interpreti...   \n",
       "2       ieeexplore  Cyber security operations centre: Security mon...   \n",
       "3    sciencedirect           Security Management Standards: A Mapping   \n",
       "4    sciencedirect  Mapping the field of software life cycle secur...   \n",
       "..             ...                                                ...   \n",
       "137  sciencedirect    A survey of security issues for cloud computing   \n",
       "138     ieeexplore          A framework for measurability of security   \n",
       "139     ieeexplore  A Formal Approach Enabling Risk-Aware Business...   \n",
       "140     ieeexplore  The effectiveness of corporate culture toward ...   \n",
       "141  sciencedirect  An evaluation framework for network security v...   \n",
       "\n",
       "                                               journal citations  year  \\\n",
       "0           2011 Information Security for South Africa        10  2011   \n",
       "1                                 Computers & Security        21  2008   \n",
       "2    2015 International Conference on Cyber Situati...         6  2015   \n",
       "3                            Procedia Computer Science         0  2016   \n",
       "4                  Information and Software Technology         3  2018   \n",
       "..                                                 ...       ...   ...   \n",
       "137       Journal of Network and Computer Applications        77  2016   \n",
       "138  2017 8th International Conference on Informati...         1  2017   \n",
       "139            IEEE Transactions on Services Computing        15  2010   \n",
       "140  2015 World Congress on Information Technology ...       133  2015   \n",
       "141                               Computers & Security         1  2019   \n",
       "\n",
       "    impact_factor  \n",
       "0           0.000  \n",
       "1           3.062  \n",
       "2           0.000  \n",
       "3           0.000  \n",
       "4           2.921  \n",
       "..            ...  \n",
       "137         5.273  \n",
       "138         0.000  \n",
       "139         5.707  \n",
       "140         0.000  \n",
       "141         3.062  \n",
       "\n",
       "[132 rows x 34 columns]"
      ]
     },
     "execution_count": 6,
     "metadata": {},
     "output_type": "execute_result"
    }
   ],
   "source": [
    "df"
   ]
  },
  {
   "cell_type": "code",
   "execution_count": null,
   "metadata": {},
   "outputs": [],
   "source": []
  },
  {
   "cell_type": "code",
   "execution_count": 95,
   "metadata": {},
   "outputs": [
    {
     "data": {
      "text/plain": [
       "<matplotlib.axes._subplots.AxesSubplot at 0x7f9aef235f10>"
      ]
     },
     "execution_count": 95,
     "metadata": {},
     "output_type": "execute_result"
    },
    {
     "data": {
      "image/png": "[encoded data removed]",
      "text/plain": [
       "<Figure size 432x288 with 1 Axes>"
      ]
     },
     "metadata": {
      "needs_background": "light"
     },
     "output_type": "display_data"
    }
   ],
   "source": [
    "auth_col_list = list(df.columns[:6])\n",
    "authdf = pd.DataFrame(df[auth_col_list])\n",
    "authindex = pd.DataFrame(authdf.stack())\n",
    "authindex.groupby([0]).size().sort_values().tail(10).plot(kind='barh')\n",
    "#auth_series = pd.Series(df[auth_col_list].values.ravel()).dropna()\n",
    "#auth_series"
   ]
  },
  {
   "cell_type": "code",
   "execution_count": 8,
   "metadata": {
    "scrolled": true
   },
   "outputs": [
    {
     "data": {
      "text/plain": [
       "Index(['author0', 'author1', 'author2', 'author3', 'author4', 'author5',\n",
       "       'database', 'title', 'journal', 'citations', 'year', 'impact_factor'],\n",
       "      dtype='object')"
      ]
     },
     "execution_count": 8,
     "metadata": {},
     "output_type": "execute_result"
    }
   ],
   "source": [
    "df.columns"
   ]
  },
  {
   "cell_type": "code",
   "execution_count": 97,
   "metadata": {},
   "outputs": [
    {
     "data": {
      "text/plain": [
       "<matplotlib.axes._subplots.AxesSubplot at 0x7f9aefa62190>"
      ]
     },
     "execution_count": 97,
     "metadata": {},
     "output_type": "execute_result"
    },
    {
     "data": {
      "image/png": "[encoded data removed]",
      "text/plain": [
       "<Figure size 432x288 with 1 Axes>"
      ]
     },
     "metadata": {
      "needs_background": "light"
     },
     "output_type": "display_data"
    }
   ],
   "source": [
    "# Scatterplot\n",
    "# X: highest impact factor\n",
    "# Y: Impact factor, ascending\n",
    "\n",
    "df[[\"impact_factor\", \"year\"]].plot(kind='scatter', x='year', y='impact_factor')"
   ]
  },
  {
   "cell_type": "code",
   "execution_count": 114,
   "metadata": {
    "scrolled": true
   },
   "outputs": [
    {
     "data": {
      "text/plain": [
       "<matplotlib.axes._subplots.AxesSubplot at 0x7f9aef0eaad0>"
      ]
     },
     "execution_count": 114,
     "metadata": {},
     "output_type": "execute_result"
    },
    {
     "data": {
      "image/png": "[encoded data removed]",
      "text/plain": [
       "<Figure size 720x360 with 1 Axes>"
      ]
     },
     "metadata": {
      "needs_background": "light"
     },
     "output_type": "display_data"
    }
   ],
   "source": [
    "# Scatterplot citations and year\n",
    "# X: year\n",
    "# Y: Citations\n",
    "\n",
    "df[[\"citations\", \"year\"]].plot(kind='scatter', x='year', y='citations', figsize=(10,5))"
   ]
  },
  {
   "cell_type": "code",
   "execution_count": null,
   "metadata": {},
   "outputs": [],
   "source": []
  },
  {
   "cell_type": "code",
   "execution_count": null,
   "metadata": {},
   "outputs": [],
   "source": []
  },
  {
   "cell_type": "code",
   "execution_count": 99,
   "metadata": {},
   "outputs": [
    {
     "data": {
      "text/plain": [
       "['author0', 'author1', 'author2', 'author3', 'author4', 'author5']"
      ]
     },
     "execution_count": 99,
     "metadata": {},
     "output_type": "execute_result"
    }
   ],
   "source": [
    "list(df.columns[0:6])"
   ]
  },
  {
   "cell_type": "code",
   "execution_count": 92,
   "metadata": {},
   "outputs": [
    {
     "data": {
      "text/plain": [
       "value\n",
       "Kai Petersen          2\n",
       "Patrick Morrison      2\n",
       "Fariba Ghaffari       2\n",
       "Karen Renaud          2\n",
       "Mariana Gerber        2\n",
       "                     ..\n",
       "Neeraj Kumar          1\n",
       "Nicolas Vavasseur     1\n",
       "Noam Ben-Asher        1\n",
       "Nobutoshi Hatanaka    1\n",
       "A. Hunstad            1\n",
       "Length: 367, dtype: int64"
      ]
     },
     "execution_count": 92,
     "metadata": {},
     "output_type": "execute_result"
    }
   ],
   "source": [
    "# Melting all author columns into one column\n",
    "melt_auth_df = df[list(df.columns[0:6])].melt(var_name='auth_id').set_index('auth_id')\n",
    "melt_auth_df.dropna().groupby('value').size().sort_values(ascending=False)"
   ]
  },
  {
   "cell_type": "code",
   "execution_count": null,
   "metadata": {},
   "outputs": [],
   "source": []
  },
  {
   "cell_type": "code",
   "execution_count": null,
   "metadata": {},
   "outputs": [],
   "source": []
  },
  {
   "cell_type": "code",
   "execution_count": null,
   "metadata": {},
   "outputs": [],
   "source": []
  },
  {
   "cell_type": "markdown",
   "metadata": {},
   "source": [
    "**Keywords**"
   ]
  },
  {
   "cell_type": "code",
   "execution_count": 8,
   "metadata": {},
   "outputs": [
    {
     "data": {
      "text/plain": [
       "Index(['author0', 'author1', 'author2', 'author3', 'author4', 'author5',\n",
       "       'keywords0', 'keywords1', 'keywords10', 'keywords11', 'keywords12',\n",
       "       'keywords13', 'keywords14', 'keywords15', 'keywords16', 'keywords17',\n",
       "       'keywords18', 'keywords19', 'keywords2', 'keywords20', 'keywords21',\n",
       "       'keywords3', 'keywords4', 'keywords5', 'keywords6', 'keywords7',\n",
       "       'keywords8', 'keywords9', 'database', 'title', 'journal', 'citations',\n",
       "       'year', 'impact_factor'],\n",
       "      dtype='object')"
      ]
     },
     "execution_count": 8,
     "metadata": {},
     "output_type": "execute_result"
    }
   ],
   "source": [
    "df.columns"
   ]
  },
  {
   "cell_type": "code",
   "execution_count": 115,
   "metadata": {},
   "outputs": [
    {
     "data": {
      "text/plain": [
       "<wordcloud.wordcloud.WordCloud at 0x7f89e6552350>"
      ]
     },
     "execution_count": 115,
     "metadata": {},
     "output_type": "execute_result"
    }
   ],
   "source": [
    "# Get the most used keywords\n",
    "\n",
    "# Combine the keywordcolumns into one series\n",
    "#Melting!!\n",
    "# Search for the most used one \n",
    "\n",
    "melt_key = df[list(df.columns[6:28])].melt().drop(\"variable\", axis=1)\n",
    "melt_df = melt_key[\"value\"].dropna().str.lower()\n",
    "melt_70_dict = melt_df.value_counts().head(70).to_dict()\n",
    "WordCloud(background_color=\"black\").generate_from_frequencies(frequencies=melt_70_dict)\n",
    "\n",
    "#.plot(kind='barh', figsize=(7, 14))\n",
    "#.groupby(\"value\").size().sort_values(ascending=False).head(50).plot(kind='barh', figsize=(7,12))"
   ]
  },
  {
   "cell_type": "code",
   "execution_count": null,
   "metadata": {},
   "outputs": [],
   "source": []
  },
  {
   "cell_type": "code",
   "execution_count": null,
   "metadata": {},
   "outputs": [],
   "source": []
  },
  {
   "cell_type": "code",
   "execution_count": null,
   "metadata": {},
   "outputs": [],
   "source": []
  },
  {
   "cell_type": "code",
   "execution_count": null,
   "metadata": {},
   "outputs": [],
   "source": []
  },
  {
   "cell_type": "code",
   "execution_count": null,
   "metadata": {},
   "outputs": [],
   "source": []
  },
  {
   "cell_type": "code",
   "execution_count": null,
   "metadata": {},
   "outputs": [],
   "source": []
  },
  {
   "cell_type": "code",
   "execution_count": null,
   "metadata": {},
   "outputs": [],
   "source": []
  },
  {
   "cell_type": "code",
   "execution_count": null,
   "metadata": {},
   "outputs": [],
   "source": []
  },
  {
   "cell_type": "code",
   "execution_count": null,
   "metadata": {},
   "outputs": [],
   "source": []
  },
  {
   "cell_type": "code",
   "execution_count": null,
   "metadata": {},
   "outputs": [],
   "source": []
  },
  {
   "cell_type": "code",
   "execution_count": 101,
   "metadata": {},
   "outputs": [
    {
     "data": {
      "text/plain": [
       "<matplotlib.axes._subplots.AxesSubplot at 0x7f9aef141390>"
      ]
     },
     "execution_count": 101,
     "metadata": {},
     "output_type": "execute_result"
    },
    {
     "data": {
      "image/png": "[encoded data removed]",
      "text/plain": [
       "<Figure size 432x288 with 1 Axes>"
      ]
     },
     "metadata": {
      "needs_background": "light"
     },
     "output_type": "display_data"
    }
   ],
   "source": [
    "# Number of studies per author\n",
    "# Most published authors\n",
    "# extracting the authorcolumns from the df\n",
    "auth_col_list = list(df.columns[:6])\n",
    "authdf = pd.DataFrame(df[auth_col_list])\n",
    "authindex = pd.DataFrame(authdf.stack())\n",
    "authindex.groupby([0]).size().sort_values().tail(35).plot(kind='bar')\n",
    "#auth_series = pd.Series(df[auth_col_list].values.ravel()).dropna()\n",
    "#auth_series"
   ]
  },
  {
   "cell_type": "code",
   "execution_count": 102,
   "metadata": {},
   "outputs": [
    {
     "data": {
      "text/plain": [
       "<matplotlib.axes._subplots.AxesSubplot at 0x7f9aefbf19d0>"
      ]
     },
     "execution_count": 102,
     "metadata": {},
     "output_type": "execute_result"
    },
    {
     "data": {
      "image/png": "[encoded data removed]",
      "text/plain": [
       "<Figure size 432x288 with 1 Axes>"
      ]
     },
     "metadata": {
      "needs_background": "light"
     },
     "output_type": "display_data"
    }
   ],
   "source": [
    "# Most cited paper plus distribution of citations\n",
    "df[[\"citations\", \"title\"]].sort_values(\n",
    "    by=\"citations\",\n",
    "    ascending=False).head().set_index('title').plot(kind='barh')"
   ]
  },
  {
   "cell_type": "code",
   "execution_count": 25,
   "metadata": {},
   "outputs": [
    {
     "data": {
      "text/html": [
       "<div>\n",
       "<style scoped>\n",
       "    .dataframe tbody tr th:only-of-type {\n",
       "        vertical-align: middle;\n",
       "    }\n",
       "\n",
       "    .dataframe tbody tr th {\n",
       "        vertical-align: top;\n",
       "    }\n",
       "\n",
       "    .dataframe thead th {\n",
       "        text-align: right;\n",
       "    }\n",
       "</style>\n",
       "<table border=\"1\" class=\"dataframe\">\n",
       "  <thead>\n",
       "    <tr style=\"text-align: right;\">\n",
       "      <th></th>\n",
       "      <th>citations</th>\n",
       "      <th>title</th>\n",
       "    </tr>\n",
       "  </thead>\n",
       "  <tbody>\n",
       "    <tr>\n",
       "      <td>126</td>\n",
       "      <td>817</td>\n",
       "      <td>Building an effective and efficient continuous...</td>\n",
       "    </tr>\n",
       "    <tr>\n",
       "      <td>130</td>\n",
       "      <td>773</td>\n",
       "      <td>Educating and Raising Awareness on Cyber Secur...</td>\n",
       "    </tr>\n",
       "    <tr>\n",
       "      <td>50</td>\n",
       "      <td>562</td>\n",
       "      <td>A design review: Concepts for mitigating SQL i...</td>\n",
       "    </tr>\n",
       "    <tr>\n",
       "      <td>76</td>\n",
       "      <td>503</td>\n",
       "      <td>A formal qualitative risk management approach ...</td>\n",
       "    </tr>\n",
       "    <tr>\n",
       "      <td>10</td>\n",
       "      <td>486</td>\n",
       "      <td>Vulnus: Visual Vulnerability Analysis for Netw...</td>\n",
       "    </tr>\n",
       "    <tr>\n",
       "      <td>...</td>\n",
       "      <td>...</td>\n",
       "      <td>...</td>\n",
       "    </tr>\n",
       "    <tr>\n",
       "      <td>17</td>\n",
       "      <td>0</td>\n",
       "      <td>Information Security Metrics</td>\n",
       "    </tr>\n",
       "    <tr>\n",
       "      <td>16</td>\n",
       "      <td>0</td>\n",
       "      <td>Apparatus: A framework for security analysis i...</td>\n",
       "    </tr>\n",
       "    <tr>\n",
       "      <td>85</td>\n",
       "      <td>0</td>\n",
       "      <td>A control-theoretic perspective on cyber-physi...</td>\n",
       "    </tr>\n",
       "    <tr>\n",
       "      <td>89</td>\n",
       "      <td>0</td>\n",
       "      <td>Trade secrets and cyber security breaches</td>\n",
       "    </tr>\n",
       "    <tr>\n",
       "      <td>3</td>\n",
       "      <td>0</td>\n",
       "      <td>Security Management Standards: A Mapping</td>\n",
       "    </tr>\n",
       "  </tbody>\n",
       "</table>\n",
       "<p>132 rows × 2 columns</p>\n",
       "</div>"
      ],
      "text/plain": [
       "     citations                                              title\n",
       "126        817  Building an effective and efficient continuous...\n",
       "130        773  Educating and Raising Awareness on Cyber Secur...\n",
       "50         562  A design review: Concepts for mitigating SQL i...\n",
       "76         503  A formal qualitative risk management approach ...\n",
       "10         486  Vulnus: Visual Vulnerability Analysis for Netw...\n",
       "..         ...                                                ...\n",
       "17           0                       Information Security Metrics\n",
       "16           0  Apparatus: A framework for security analysis i...\n",
       "85           0  A control-theoretic perspective on cyber-physi...\n",
       "89           0          Trade secrets and cyber security breaches\n",
       "3            0           Security Management Standards: A Mapping\n",
       "\n",
       "[132 rows x 2 columns]"
      ]
     },
     "execution_count": 25,
     "metadata": {},
     "output_type": "execute_result"
    }
   ],
   "source": [
    "df[[\"citations\", \"title\"]].sort_values(by=\"citations\",\n",
    "                                      ascending=False)"
   ]
  },
  {
   "cell_type": "code",
   "execution_count": 103,
   "metadata": {},
   "outputs": [
    {
     "data": {
      "text/plain": [
       "<matplotlib.axes._subplots.AxesSubplot at 0x7f9aef8ca610>"
      ]
     },
     "execution_count": 103,
     "metadata": {},
     "output_type": "execute_result"
    },
    {
     "data": {
      "image/png": "[encoded data removed]",
      "text/plain": [
       "<Figure size 1008x504 with 1 Axes>"
      ]
     },
     "metadata": {
      "needs_background": "light"
     },
     "output_type": "display_data"
    }
   ],
   "source": [
    "# Time series corelation. x: tiem in years, y: number of studies\n",
    "time_correlation_gby = df.groupby(\"year\").size()\n",
    "time_corr_df = pd.DataFrame(time_correlation_gby)\n",
    "time_corr_df.columns = ['Anzahl der Paper']\n",
    "time_corr_df.index.name = 'Jahr'\n",
    "time_corr_df.plot(kind='bar', figsize=(14, 7), grid=True, fontsize=14)"
   ]
  },
  {
   "cell_type": "code",
   "execution_count": 10,
   "metadata": {},
   "outputs": [],
   "source": [
    "# Journal types. Journals of Conference"
   ]
  },
  {
   "cell_type": "code",
   "execution_count": 11,
   "metadata": {
    "scrolled": true
   },
   "outputs": [
    {
     "data": {
      "text/plain": [
       "<matplotlib.axes._subplots.AxesSubplot at 0x7f9af1edb790>"
      ]
     },
     "execution_count": 11,
     "metadata": {},
     "output_type": "execute_result"
    },
    {
     "data": {
      "image/png": "[encoded data removed]",
      "text/plain": [
       "<Figure size 432x288 with 1 Axes>"
      ]
     },
     "metadata": {
      "needs_background": "light"
     },
     "output_type": "display_data"
    }
   ],
   "source": [
    "# Most published journals. Dropping all values with NotaJournal entry\n",
    "df.loc[df[\"journal\"].eq('Proceedings Title: 2012 International Conference on Cyber Security, Cyber Warfare and Digital Forensic (CyberSec)'), \"journal\"] = \"2012 International Conference on Cyber Security, Cyber Warfare and Digital Forensic\"\n",
    "journal_gby = df.groupby(\"journal\").size().drop('NaJ').sort_values().tail(5)\n",
    "journal_time_journal_df = journal_gby.reset_index()\n",
    "journal_time_journal_df.columns = [\"Journal\", \"Erschienene Paper pro Jahr\"]\n",
    "journal_time_journal_df.set_index(\"Journal\").plot(kind='barh')\n",
    "# journal_plot = journal_time_journal_df.set_index(\"Journal\").plot(kind='barh')\n"
   ]
  },
  {
   "cell_type": "code",
   "execution_count": 12,
   "metadata": {},
   "outputs": [
    {
     "data": {
      "text/plain": [
       "<matplotlib.axes._subplots.AxesSubplot at 0x7f9af21fb290>"
      ]
     },
     "execution_count": 12,
     "metadata": {},
     "output_type": "execute_result"
    },
    {
     "data": {
      "image/png": "[encoded data removed]",
      "text/plain": [
       "<Figure size 432x288 with 1 Axes>"
      ]
     },
     "metadata": {
      "needs_background": "light"
     },
     "output_type": "display_data"
    }
   ],
   "source": [
    "# Most published journals.\n",
    "\n",
    "# Get the dataframe\n",
    "# Get the amount of journals. Probably groupby\n",
    "grp_journal = df.groupby(\"journal\").size().drop('NaJ').sort_values().tail(5)\n",
    "grp_journal.plot(kind='barh')"
   ]
  },
  {
   "cell_type": "code",
   "execution_count": 36,
   "metadata": {
    "scrolled": true
   },
   "outputs": [
    {
     "data": {
      "text/plain": [
       "<matplotlib.axes._subplots.AxesSubplot at 0x7f9af08a9450>"
      ]
     },
     "execution_count": 36,
     "metadata": {},
     "output_type": "execute_result"
    },
    {
     "data": {
      "image/png": "[encoded data removed]",
      "text/plain": [
       "<Figure size 432x288 with 1 Axes>"
      ]
     },
     "metadata": {
      "needs_background": "light"
     },
     "output_type": "display_data"
    }
   ],
   "source": [
    "# Found papers in databases\n",
    "used_databases = df[\"database\"].value_counts()\n",
    "used_databases.plot(kind='bar')"
   ]
  },
  {
   "cell_type": "code",
   "execution_count": 14,
   "metadata": {},
   "outputs": [
    {
     "name": "stderr",
     "output_type": "stream",
     "text": [
      "/home/zwoelfer/.local/lib/python3.7/site-packages/ipykernel_launcher.py:1: FutureWarning: The signature of `Series.to_csv` was aligned to that of `DataFrame.to_csv`, and argument 'header' will change its default value from False to True: please pass an explicit value to suppress this warning.\n",
      "  \"\"\"Entry point for launching an IPython kernel.\n"
     ]
    }
   ],
   "source": [
    "used_databases.to_csv('test.csv')"
   ]
  },
  {
   "cell_type": "code",
   "execution_count": 15,
   "metadata": {},
   "outputs": [],
   "source": [
    "# Found conference papers. Usually withour an impact factor"
   ]
  },
  {
   "cell_type": "code",
   "execution_count": 16,
   "metadata": {},
   "outputs": [
    {
     "data": {
      "text/plain": [
       "<matplotlib.axes._subplots.AxesSubplot at 0x7f9af203e810>"
      ]
     },
     "execution_count": 16,
     "metadata": {},
     "output_type": "execute_result"
    },
    {
     "data": {
      "image/png": "[encoded data removed]",
      "text/plain": [
       "<Figure size 432x288 with 1 Axes>"
      ]
     },
     "metadata": {
      "needs_background": "light"
     },
     "output_type": "display_data"
    }
   ],
   "source": [
    "# Shows impact factors and journals that are most commonly used\n",
    "df.groupby([\"impact_factor\", \"journal\"]).size().drop(0.000).sort_values().tail(\n",
    "10).plot(kind='barh')"
   ]
  },
  {
   "cell_type": "code",
   "execution_count": 17,
   "metadata": {},
   "outputs": [
    {
     "data": {
      "text/plain": [
       "<matplotlib.axes._subplots.AxesSubplot at 0x7f9af1f63c10>"
      ]
     },
     "execution_count": 17,
     "metadata": {},
     "output_type": "execute_result"
    },
    {
     "data": {
      "image/png": "[encoded data removed]",
      "text/plain": [
       "<Figure size 432x288 with 1 Axes>"
      ]
     },
     "metadata": {
      "needs_background": "light"
     },
     "output_type": "display_data"
    }
   ],
   "source": [
    "# Show highest impactfactors and journals used\n",
    "# df.loc[:, [\"journal\", \"impact_factor\"]].sort_values(by=\"impact_factor\").tail(18)\n",
    "df.groupby(\"impact_factor\").size().drop(0.000).sort_values().plot(kind='barh')"
   ]
  },
  {
   "cell_type": "code",
   "execution_count": null,
   "metadata": {},
   "outputs": [],
   "source": []
  },
  {
   "cell_type": "code",
   "execution_count": null,
   "metadata": {},
   "outputs": [],
   "source": []
  },
  {
   "cell_type": "code",
   "execution_count": null,
   "metadata": {},
   "outputs": [],
   "source": []
  },
  {
   "cell_type": "code",
   "execution_count": null,
   "metadata": {},
   "outputs": [],
   "source": []
  },
  {
   "cell_type": "code",
   "execution_count": null,
   "metadata": {},
   "outputs": [],
   "source": []
  },
  {
   "cell_type": "code",
   "execution_count": null,
   "metadata": {},
   "outputs": [],
   "source": []
  },
  {
   "cell_type": "code",
   "execution_count": null,
   "metadata": {},
   "outputs": [],
   "source": []
  },
  {
   "cell_type": "code",
   "execution_count": null,
   "metadata": {},
   "outputs": [],
   "source": []
  },
  {
   "cell_type": "code",
   "execution_count": null,
   "metadata": {},
   "outputs": [],
   "source": []
  }
 ],
 "metadata": {
  "kernelspec": {
   "display_name": "Python 3",
   "language": "python",
   "name": "python3"
  },
  "language_info": {
   "codemirror_mode": {
    "name": "ipython",
    "version": 3
   },
   "file_extension": ".py",
   "mimetype": "text/x-python",
   "name": "python",
   "nbconvert_exporter": "python",
   "pygments_lexer": "ipython3",
   "version": "3.7.4"
  }
 },
 "nbformat": 4,
 "nbformat_minor": 2
}
