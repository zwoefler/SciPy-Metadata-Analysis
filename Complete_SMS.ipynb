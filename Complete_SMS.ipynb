{
 "cells": [
  {
   "cell_type": "code",
   "execution_count": 234,
   "metadata": {},
   "outputs": [],
   "source": [
    "import pandas as pd\n",
    "import re\n",
    "import matplotlib"
   ]
  },
  {
   "cell_type": "code",
   "execution_count": 378,
   "metadata": {},
   "outputs": [],
   "source": [
    "meta_data = 'meta_data.json'\n",
    "df = pd.read_json(meta_data)"
   ]
  },
  {
   "cell_type": "code",
   "execution_count": 379,
   "metadata": {
    "scrolled": true
   },
   "outputs": [
    {
     "data": {
      "text/html": [
       "<div>\n",
       "<style scoped>\n",
       "    .dataframe tbody tr th:only-of-type {\n",
       "        vertical-align: middle;\n",
       "    }\n",
       "\n",
       "    .dataframe tbody tr th {\n",
       "        vertical-align: top;\n",
       "    }\n",
       "\n",
       "    .dataframe thead th {\n",
       "        text-align: right;\n",
       "    }\n",
       "</style>\n",
       "<table border=\"1\" class=\"dataframe\">\n",
       "  <thead>\n",
       "    <tr style=\"text-align: right;\">\n",
       "      <th></th>\n",
       "      <th>database</th>\n",
       "      <th>url</th>\n",
       "      <th>title</th>\n",
       "      <th>authors</th>\n",
       "      <th>journal</th>\n",
       "      <th>citations</th>\n",
       "      <th>publish_date</th>\n",
       "      <th>keywords</th>\n",
       "      <th>doi</th>\n",
       "      <th>journal_impact_factor</th>\n",
       "    </tr>\n",
       "  </thead>\n",
       "  <tbody>\n",
       "    <tr>\n",
       "      <td>0</td>\n",
       "      <td>ieeexplore</td>\n",
       "      <td>https://ieeexplore.ieee.org/document/6027518</td>\n",
       "      <td>A visualization and modeling tool for security...</td>\n",
       "      <td>[Reijo M. Savola ;, Petri Heinonen]</td>\n",
       "      <td>2011 Information Security for South Africa</td>\n",
       "      <td>10.0</td>\n",
       "      <td>2011</td>\n",
       "      <td>[Measurement, Visualization, Authentication, D...</td>\n",
       "      <td>10.1109/ISSA.2011.6027518</td>\n",
       "      <td>NaN</td>\n",
       "    </tr>\n",
       "    <tr>\n",
       "      <td>1</td>\n",
       "      <td>sciencedirect</td>\n",
       "      <td>https://www.sciencedirect.com/science/article/...</td>\n",
       "      <td>Information security requirements – Interpreti...</td>\n",
       "      <td>[{'surname': 'Gerber', 'first_name': 'Mariana'...</td>\n",
       "      <td>Computers &amp; Security</td>\n",
       "      <td>21.0</td>\n",
       "      <td>5–6</td>\n",
       "      <td>[Information security, Information security ma...</td>\n",
       "      <td>https://doi.org/10.1016/j.cose.2008.07.009</td>\n",
       "      <td>3.062</td>\n",
       "    </tr>\n",
       "    <tr>\n",
       "      <td>2</td>\n",
       "      <td>ieeexplore</td>\n",
       "      <td>https://ieeexplore.ieee.org/document/7166125</td>\n",
       "      <td>Cyber security operations centre: Security mon...</td>\n",
       "      <td>[Cyril Onwubiko]</td>\n",
       "      <td>2015 International Conference on Cyber Situati...</td>\n",
       "      <td>6.0</td>\n",
       "      <td>2015</td>\n",
       "      <td>[Monitoring, Business, Computer crime, System-...</td>\n",
       "      <td>10.1109/CyberSA.2015.7166125</td>\n",
       "      <td>NaN</td>\n",
       "    </tr>\n",
       "    <tr>\n",
       "      <td>3</td>\n",
       "      <td>sciencedirect</td>\n",
       "      <td>https://www.sciencedirect.com/science/article/...</td>\n",
       "      <td>Security Management Standards: A Mapping</td>\n",
       "      <td>[{'surname': 'Haufe', 'first_name': 'Knut'}, {...</td>\n",
       "      <td>Procedia Computer Science</td>\n",
       "      <td>NaN</td>\n",
       "      <td>2016</td>\n",
       "      <td>[Information Security, ISMS, Mapping, Processe...</td>\n",
       "      <td>https://doi.org/10.1016/j.procs.2016.09.221</td>\n",
       "      <td>NaN</td>\n",
       "    </tr>\n",
       "    <tr>\n",
       "      <td>4</td>\n",
       "      <td>sciencedirect</td>\n",
       "      <td>https://www.sciencedirect.com/science/article/...</td>\n",
       "      <td>Mapping the field of software life cycle secur...</td>\n",
       "      <td>[{'surname': 'Morrison', 'first_name': 'Patric...</td>\n",
       "      <td>Information and Software Technology</td>\n",
       "      <td>3.0</td>\n",
       "      <td>2018</td>\n",
       "      <td>[Metrics, Measurement, Security]</td>\n",
       "      <td>https://doi.org/10.1016/j.infsof.2018.05.011</td>\n",
       "      <td>2.921</td>\n",
       "    </tr>\n",
       "    <tr>\n",
       "      <td>...</td>\n",
       "      <td>...</td>\n",
       "      <td>...</td>\n",
       "      <td>...</td>\n",
       "      <td>...</td>\n",
       "      <td>...</td>\n",
       "      <td>...</td>\n",
       "      <td>...</td>\n",
       "      <td>...</td>\n",
       "      <td>...</td>\n",
       "      <td>...</td>\n",
       "    </tr>\n",
       "    <tr>\n",
       "      <td>137</td>\n",
       "      <td>sciencedirect</td>\n",
       "      <td>https://www.sciencedirect.com/science/article/...</td>\n",
       "      <td>A survey of security issues for cloud computing</td>\n",
       "      <td>[{'surname': 'Khan', 'first_name': 'Minhaj Ahm...</td>\n",
       "      <td>Journal of Network and Computer Applications</td>\n",
       "      <td>77.0</td>\n",
       "      <td>2016</td>\n",
       "      <td>[Cloud security, Cloud computing, Denial-of-se...</td>\n",
       "      <td>https://doi.org/10.1016/j.jnca.2016.05.010</td>\n",
       "      <td>5.273</td>\n",
       "    </tr>\n",
       "    <tr>\n",
       "      <td>138</td>\n",
       "      <td>ieeexplore</td>\n",
       "      <td>https://ieeexplore.ieee.org/document/7921989</td>\n",
       "      <td>A framework for measurability of security</td>\n",
       "      <td>[Seraj Fayyad ;, Josef Noll]</td>\n",
       "      <td>2017 8th International Conference on Informati...</td>\n",
       "      <td>1.0</td>\n",
       "      <td>2017</td>\n",
       "      <td>[Security, Measurement, Databases, Privacy, Sy...</td>\n",
       "      <td>10.1109/IACS.2017.7921989</td>\n",
       "      <td>NaN</td>\n",
       "    </tr>\n",
       "    <tr>\n",
       "      <td>139</td>\n",
       "      <td>ieeexplore</td>\n",
       "      <td>https://ieeexplore.ieee.org/document/5467019</td>\n",
       "      <td>A Formal Approach Enabling Risk-Aware Business...</td>\n",
       "      <td>[Simon Tjoa ;, Stefan Jakoubi ;, Gernot Goluch...</td>\n",
       "      <td>IEEE Transactions on Services Computing</td>\n",
       "      <td>15.0</td>\n",
       "      <td>2010</td>\n",
       "      <td>[Security, Unified modeling language, Risk man...</td>\n",
       "      <td>10.1109/TSC.2010.17</td>\n",
       "      <td>5.707</td>\n",
       "    </tr>\n",
       "    <tr>\n",
       "      <td>140</td>\n",
       "      <td>ieeexplore</td>\n",
       "      <td>https://ieeexplore.ieee.org/document/7367050</td>\n",
       "      <td>The effectiveness of corporate culture toward ...</td>\n",
       "      <td>[Abdullah Almubark ;, Nobutoshi Hatanaka ;, Os...</td>\n",
       "      <td>2015 World Congress on Information Technology ...</td>\n",
       "      <td>133.0</td>\n",
       "      <td>2015</td>\n",
       "      <td>[Decision support systems, Information securit...</td>\n",
       "      <td>10.1109/WCITCA.2015.7367050</td>\n",
       "      <td>NaN</td>\n",
       "    </tr>\n",
       "    <tr>\n",
       "      <td>141</td>\n",
       "      <td>sciencedirect</td>\n",
       "      <td>https://www.sciencedirect.com/science/article/...</td>\n",
       "      <td>An evaluation framework for network security v...</td>\n",
       "      <td>[{'surname': 'Sharafaldin', 'first_name': 'Ima...</td>\n",
       "      <td>Computers &amp; Security</td>\n",
       "      <td>1.0</td>\n",
       "      <td>2019</td>\n",
       "      <td>[Information visualization, Network attacks, E...</td>\n",
       "      <td>https://doi.org/10.1016/j.cose.2019.03.005</td>\n",
       "      <td>3.062</td>\n",
       "    </tr>\n",
       "  </tbody>\n",
       "</table>\n",
       "<p>142 rows × 10 columns</p>\n",
       "</div>"
      ],
      "text/plain": [
       "          database                                                url  \\\n",
       "0       ieeexplore       https://ieeexplore.ieee.org/document/6027518   \n",
       "1    sciencedirect  https://www.sciencedirect.com/science/article/...   \n",
       "2       ieeexplore       https://ieeexplore.ieee.org/document/7166125   \n",
       "3    sciencedirect  https://www.sciencedirect.com/science/article/...   \n",
       "4    sciencedirect  https://www.sciencedirect.com/science/article/...   \n",
       "..             ...                                                ...   \n",
       "137  sciencedirect  https://www.sciencedirect.com/science/article/...   \n",
       "138     ieeexplore       https://ieeexplore.ieee.org/document/7921989   \n",
       "139     ieeexplore       https://ieeexplore.ieee.org/document/5467019   \n",
       "140     ieeexplore       https://ieeexplore.ieee.org/document/7367050   \n",
       "141  sciencedirect  https://www.sciencedirect.com/science/article/...   \n",
       "\n",
       "                                                 title  \\\n",
       "0    A visualization and modeling tool for security...   \n",
       "1    Information security requirements – Interpreti...   \n",
       "2    Cyber security operations centre: Security mon...   \n",
       "3             Security Management Standards: A Mapping   \n",
       "4    Mapping the field of software life cycle secur...   \n",
       "..                                                 ...   \n",
       "137    A survey of security issues for cloud computing   \n",
       "138          A framework for measurability of security   \n",
       "139  A Formal Approach Enabling Risk-Aware Business...   \n",
       "140  The effectiveness of corporate culture toward ...   \n",
       "141  An evaluation framework for network security v...   \n",
       "\n",
       "                                               authors  \\\n",
       "0                  [Reijo M. Savola ;, Petri Heinonen]   \n",
       "1    [{'surname': 'Gerber', 'first_name': 'Mariana'...   \n",
       "2                                     [Cyril Onwubiko]   \n",
       "3    [{'surname': 'Haufe', 'first_name': 'Knut'}, {...   \n",
       "4    [{'surname': 'Morrison', 'first_name': 'Patric...   \n",
       "..                                                 ...   \n",
       "137  [{'surname': 'Khan', 'first_name': 'Minhaj Ahm...   \n",
       "138                       [Seraj Fayyad ;, Josef Noll]   \n",
       "139  [Simon Tjoa ;, Stefan Jakoubi ;, Gernot Goluch...   \n",
       "140  [Abdullah Almubark ;, Nobutoshi Hatanaka ;, Os...   \n",
       "141  [{'surname': 'Sharafaldin', 'first_name': 'Ima...   \n",
       "\n",
       "                                               journal  citations  \\\n",
       "0           2011 Information Security for South Africa       10.0   \n",
       "1                                 Computers & Security       21.0   \n",
       "2    2015 International Conference on Cyber Situati...        6.0   \n",
       "3                            Procedia Computer Science        NaN   \n",
       "4                  Information and Software Technology        3.0   \n",
       "..                                                 ...        ...   \n",
       "137       Journal of Network and Computer Applications       77.0   \n",
       "138  2017 8th International Conference on Informati...        1.0   \n",
       "139            IEEE Transactions on Services Computing       15.0   \n",
       "140  2015 World Congress on Information Technology ...      133.0   \n",
       "141                               Computers & Security        1.0   \n",
       "\n",
       "    publish_date                                           keywords  \\\n",
       "0           2011  [Measurement, Visualization, Authentication, D...   \n",
       "1            5–6  [Information security, Information security ma...   \n",
       "2           2015  [Monitoring, Business, Computer crime, System-...   \n",
       "3           2016  [Information Security, ISMS, Mapping, Processe...   \n",
       "4           2018                   [Metrics, Measurement, Security]   \n",
       "..           ...                                                ...   \n",
       "137         2016  [Cloud security, Cloud computing, Denial-of-se...   \n",
       "138         2017  [Security, Measurement, Databases, Privacy, Sy...   \n",
       "139         2010  [Security, Unified modeling language, Risk man...   \n",
       "140         2015  [Decision support systems, Information securit...   \n",
       "141         2019  [Information visualization, Network attacks, E...   \n",
       "\n",
       "                                              doi  journal_impact_factor  \n",
       "0                       10.1109/ISSA.2011.6027518                    NaN  \n",
       "1      https://doi.org/10.1016/j.cose.2008.07.009                  3.062  \n",
       "2                    10.1109/CyberSA.2015.7166125                    NaN  \n",
       "3     https://doi.org/10.1016/j.procs.2016.09.221                    NaN  \n",
       "4    https://doi.org/10.1016/j.infsof.2018.05.011                  2.921  \n",
       "..                                            ...                    ...  \n",
       "137    https://doi.org/10.1016/j.jnca.2016.05.010                  5.273  \n",
       "138                     10.1109/IACS.2017.7921989                    NaN  \n",
       "139                           10.1109/TSC.2010.17                  5.707  \n",
       "140                   10.1109/WCITCA.2015.7367050                    NaN  \n",
       "141    https://doi.org/10.1016/j.cose.2019.03.005                  3.062  \n",
       "\n",
       "[142 rows x 10 columns]"
      ]
     },
     "execution_count": 379,
     "metadata": {},
     "output_type": "execute_result"
    }
   ],
   "source": [
    "df"
   ]
  },
  {
   "cell_type": "code",
   "execution_count": 380,
   "metadata": {},
   "outputs": [
    {
     "name": "stdout",
     "output_type": "stream",
     "text": [
      "<class 'pandas.core.frame.DataFrame'>\n",
      "RangeIndex: 142 entries, 0 to 141\n",
      "Data columns (total 10 columns):\n",
      "database                 142 non-null object\n",
      "url                      142 non-null object\n",
      "title                    142 non-null object\n",
      "authors                  142 non-null object\n",
      "journal                  142 non-null object\n",
      "citations                135 non-null float64\n",
      "publish_date             140 non-null object\n",
      "keywords                 142 non-null object\n",
      "doi                      139 non-null object\n",
      "journal_impact_factor    51 non-null float64\n",
      "dtypes: float64(2), object(8)\n",
      "memory usage: 11.2+ KB\n"
     ]
    }
   ],
   "source": [
    "df.info()"
   ]
  },
  {
   "cell_type": "code",
   "execution_count": 381,
   "metadata": {
    "collapsed": true
   },
   "outputs": [
    {
     "name": "stderr",
     "output_type": "stream",
     "text": [
      "/home/zwoelfer/.local/lib/python3.7/site-packages/ipykernel_launcher.py:5: SettingWithCopyWarning: \n",
      "A value is trying to be set on a copy of a slice from a DataFrame\n",
      "\n",
      "See the caveats in the documentation: http://pandas.pydata.org/pandas-docs/stable/user_guide/indexing.html#returning-a-view-versus-a-copy\n",
      "  \"\"\"\n",
      "/home/zwoelfer/.local/lib/python3.7/site-packages/ipykernel_launcher.py:6: SettingWithCopyWarning: \n",
      "A value is trying to be set on a copy of a slice from a DataFrame\n",
      "\n",
      "See the caveats in the documentation: http://pandas.pydata.org/pandas-docs/stable/user_guide/indexing.html#returning-a-view-versus-a-copy\n",
      "  \n",
      "/home/zwoelfer/.local/lib/python3.7/site-packages/ipykernel_launcher.py:7: SettingWithCopyWarning: \n",
      "A value is trying to be set on a copy of a slice from a DataFrame\n",
      "\n",
      "See the caveats in the documentation: http://pandas.pydata.org/pandas-docs/stable/user_guide/indexing.html#returning-a-view-versus-a-copy\n",
      "  import sys\n",
      "/home/zwoelfer/.local/lib/python3.7/site-packages/ipykernel_launcher.py:8: SettingWithCopyWarning: \n",
      "A value is trying to be set on a copy of a slice from a DataFrame\n",
      "\n",
      "See the caveats in the documentation: http://pandas.pydata.org/pandas-docs/stable/user_guide/indexing.html#returning-a-view-versus-a-copy\n",
      "  \n",
      "/home/zwoelfer/.local/lib/python3.7/site-packages/ipykernel_launcher.py:9: SettingWithCopyWarning: \n",
      "A value is trying to be set on a copy of a slice from a DataFrame\n",
      "\n",
      "See the caveats in the documentation: http://pandas.pydata.org/pandas-docs/stable/user_guide/indexing.html#returning-a-view-versus-a-copy\n",
      "  if __name__ == '__main__':\n",
      "/home/zwoelfer/.local/lib/python3.7/site-packages/ipykernel_launcher.py:10: SettingWithCopyWarning: \n",
      "A value is trying to be set on a copy of a slice from a DataFrame\n",
      "\n",
      "See the caveats in the documentation: http://pandas.pydata.org/pandas-docs/stable/user_guide/indexing.html#returning-a-view-versus-a-copy\n",
      "  # Remove the CWD from sys.path while we load stuff.\n",
      "/home/zwoelfer/.local/lib/python3.7/site-packages/ipykernel_launcher.py:11: SettingWithCopyWarning: \n",
      "A value is trying to be set on a copy of a slice from a DataFrame\n",
      "\n",
      "See the caveats in the documentation: http://pandas.pydata.org/pandas-docs/stable/user_guide/indexing.html#returning-a-view-versus-a-copy\n",
      "  # This is added back by InteractiveShellApp.init_path()\n",
      "/home/zwoelfer/.local/lib/python3.7/site-packages/ipykernel_launcher.py:12: SettingWithCopyWarning: \n",
      "A value is trying to be set on a copy of a slice from a DataFrame\n",
      "\n",
      "See the caveats in the documentation: http://pandas.pydata.org/pandas-docs/stable/user_guide/indexing.html#returning-a-view-versus-a-copy\n",
      "  if sys.path[0] == '':\n",
      "/home/zwoelfer/.local/lib/python3.7/site-packages/ipykernel_launcher.py:13: SettingWithCopyWarning: \n",
      "A value is trying to be set on a copy of a slice from a DataFrame\n",
      "\n",
      "See the caveats in the documentation: http://pandas.pydata.org/pandas-docs/stable/user_guide/indexing.html#returning-a-view-versus-a-copy\n",
      "  del sys.path[0]\n",
      "/home/zwoelfer/.local/lib/python3.7/site-packages/ipykernel_launcher.py:14: SettingWithCopyWarning: \n",
      "A value is trying to be set on a copy of a slice from a DataFrame\n",
      "\n",
      "See the caveats in the documentation: http://pandas.pydata.org/pandas-docs/stable/user_guide/indexing.html#returning-a-view-versus-a-copy\n",
      "  \n",
      "/home/zwoelfer/.local/lib/python3.7/site-packages/ipykernel_launcher.py:15: SettingWithCopyWarning: \n",
      "A value is trying to be set on a copy of a slice from a DataFrame\n",
      "\n",
      "See the caveats in the documentation: http://pandas.pydata.org/pandas-docs/stable/user_guide/indexing.html#returning-a-view-versus-a-copy\n",
      "  from ipykernel import kernelapp as app\n",
      "/home/zwoelfer/.local/lib/python3.7/site-packages/ipykernel_launcher.py:16: SettingWithCopyWarning: \n",
      "A value is trying to be set on a copy of a slice from a DataFrame\n",
      "\n",
      "See the caveats in the documentation: http://pandas.pydata.org/pandas-docs/stable/user_guide/indexing.html#returning-a-view-versus-a-copy\n",
      "  app.launch_new_instance()\n",
      "/home/zwoelfer/.local/lib/python3.7/site-packages/ipykernel_launcher.py:17: SettingWithCopyWarning: \n",
      "A value is trying to be set on a copy of a slice from a DataFrame\n",
      "\n",
      "See the caveats in the documentation: http://pandas.pydata.org/pandas-docs/stable/user_guide/indexing.html#returning-a-view-versus-a-copy\n",
      "/home/zwoelfer/.local/lib/python3.7/site-packages/ipykernel_launcher.py:18: SettingWithCopyWarning: \n",
      "A value is trying to be set on a copy of a slice from a DataFrame\n",
      "\n",
      "See the caveats in the documentation: http://pandas.pydata.org/pandas-docs/stable/user_guide/indexing.html#returning-a-view-versus-a-copy\n",
      "/home/zwoelfer/.local/lib/python3.7/site-packages/ipykernel_launcher.py:19: SettingWithCopyWarning: \n",
      "A value is trying to be set on a copy of a slice from a DataFrame\n",
      "\n",
      "See the caveats in the documentation: http://pandas.pydata.org/pandas-docs/stable/user_guide/indexing.html#returning-a-view-versus-a-copy\n"
     ]
    }
   ],
   "source": [
    "# Optimizes the database column to categorys\n",
    "df[\"database\"] = df[\"database\"].astype('category')\n",
    "\n",
    "# Reassigned the publish date\n",
    "df[\"publish_date\"][1] = 2008\n",
    "df[\"publish_date\"][6] = 2018\n",
    "df[\"publish_date\"][17] = 2015\n",
    "df[\"publish_date\"][20] = 2018\n",
    "df[\"publish_date\"][62] = 2018\n",
    "df[\"publish_date\"][25] = 2013\n",
    "df[\"publish_date\"][31] = 2017\n",
    "df[\"publish_date\"][39] = 2010\n",
    "df[\"publish_date\"][53] = 2019\n",
    "df[\"publish_date\"][74] = 2017\n",
    "df[\"publish_date\"][80] = 2010\n",
    "df[\"publish_date\"][89] = 2018\n",
    "df[\"publish_date\"][110] = 2012\n",
    "df[\"publish_date\"][135] = 2017\n",
    "df[\"publish_date\"][87] = 2018\n",
    "\n",
    "# All Integers for column publish date\n",
    "df[\"publish_date\"] = df[\"publish_date\"].astype('int')\n",
    "df[\"citations\"].fillna(0, inplace=True)\n",
    "df[\"citations\"] = df[\"citations\"].astype('int')\n",
    "df[\"journal_impact_factor\"].fillna(0, inplace=True)\n",
    "\n",
    "# Rename columns\n",
    "df.rename(columns={\"publish_date\": \"year\", \"journal_impact_factor\": \"impact_factor\"}, inplace=True)\n",
    "\n",
    "# Removing url and doi column, since it isnÄt needed\n",
    "df = df.drop([\"url\", \"doi\"], axis=1)\n",
    "\n",
    "# Replacing list of dicts in authors column for sciencedirect papers with list of authors names\n",
    "scidir_mask = df[\"database\"] == 'sciencedirect'\n",
    "f = lambda x: [f\"{y['first_name']} {y['surname']}\" for y in x]\n",
    "df.loc[scidir_mask, 'authors'] = df.loc[scidir_mask, 'authors'].apply(f)\n",
    "\n",
    "# Striping the authors names from whitespaces and semicolons ';'\n",
    "authors_function = lambda x: [auth.strip('; ') for auth in x]\n",
    "df[\"authors\"] = df.loc[:, \"authors\"].apply(authors_function)"
   ]
  },
  {
   "cell_type": "code",
   "execution_count": 382,
   "metadata": {
    "scrolled": true
   },
   "outputs": [
    {
     "data": {
      "text/html": [
       "<div>\n",
       "<style scoped>\n",
       "    .dataframe tbody tr th:only-of-type {\n",
       "        vertical-align: middle;\n",
       "    }\n",
       "\n",
       "    .dataframe tbody tr th {\n",
       "        vertical-align: top;\n",
       "    }\n",
       "\n",
       "    .dataframe thead th {\n",
       "        text-align: right;\n",
       "    }\n",
       "</style>\n",
       "<table border=\"1\" class=\"dataframe\">\n",
       "  <thead>\n",
       "    <tr style=\"text-align: right;\">\n",
       "      <th></th>\n",
       "      <th>database</th>\n",
       "      <th>title</th>\n",
       "      <th>authors</th>\n",
       "      <th>journal</th>\n",
       "      <th>citations</th>\n",
       "      <th>year</th>\n",
       "      <th>keywords</th>\n",
       "      <th>impact_factor</th>\n",
       "    </tr>\n",
       "  </thead>\n",
       "  <tbody>\n",
       "    <tr>\n",
       "      <td>0</td>\n",
       "      <td>ieeexplore</td>\n",
       "      <td>A visualization and modeling tool for security...</td>\n",
       "      <td>[Reijo M. Savola, Petri Heinonen]</td>\n",
       "      <td>2011 Information Security for South Africa</td>\n",
       "      <td>10</td>\n",
       "      <td>2011</td>\n",
       "      <td>[Measurement, Visualization, Authentication, D...</td>\n",
       "      <td>0.000</td>\n",
       "    </tr>\n",
       "    <tr>\n",
       "      <td>1</td>\n",
       "      <td>sciencedirect</td>\n",
       "      <td>Information security requirements – Interpreti...</td>\n",
       "      <td>[Mariana Gerber, Rossouw von Solms]</td>\n",
       "      <td>Computers &amp; Security</td>\n",
       "      <td>21</td>\n",
       "      <td>2008</td>\n",
       "      <td>[Information security, Information security ma...</td>\n",
       "      <td>3.062</td>\n",
       "    </tr>\n",
       "    <tr>\n",
       "      <td>2</td>\n",
       "      <td>ieeexplore</td>\n",
       "      <td>Cyber security operations centre: Security mon...</td>\n",
       "      <td>[Cyril Onwubiko]</td>\n",
       "      <td>2015 International Conference on Cyber Situati...</td>\n",
       "      <td>6</td>\n",
       "      <td>2015</td>\n",
       "      <td>[Monitoring, Business, Computer crime, System-...</td>\n",
       "      <td>0.000</td>\n",
       "    </tr>\n",
       "    <tr>\n",
       "      <td>3</td>\n",
       "      <td>sciencedirect</td>\n",
       "      <td>Security Management Standards: A Mapping</td>\n",
       "      <td>[Knut Haufe, Ricardo Colomo-Palacios, Srdan Dz...</td>\n",
       "      <td>Procedia Computer Science</td>\n",
       "      <td>0</td>\n",
       "      <td>2016</td>\n",
       "      <td>[Information Security, ISMS, Mapping, Processe...</td>\n",
       "      <td>0.000</td>\n",
       "    </tr>\n",
       "    <tr>\n",
       "      <td>4</td>\n",
       "      <td>sciencedirect</td>\n",
       "      <td>Mapping the field of software life cycle secur...</td>\n",
       "      <td>[Patrick Morrison, David Moye, Rahul Pandita, ...</td>\n",
       "      <td>Information and Software Technology</td>\n",
       "      <td>3</td>\n",
       "      <td>2018</td>\n",
       "      <td>[Metrics, Measurement, Security]</td>\n",
       "      <td>2.921</td>\n",
       "    </tr>\n",
       "    <tr>\n",
       "      <td>...</td>\n",
       "      <td>...</td>\n",
       "      <td>...</td>\n",
       "      <td>...</td>\n",
       "      <td>...</td>\n",
       "      <td>...</td>\n",
       "      <td>...</td>\n",
       "      <td>...</td>\n",
       "      <td>...</td>\n",
       "    </tr>\n",
       "    <tr>\n",
       "      <td>137</td>\n",
       "      <td>sciencedirect</td>\n",
       "      <td>A survey of security issues for cloud computing</td>\n",
       "      <td>[Minhaj Ahmad Khan]</td>\n",
       "      <td>Journal of Network and Computer Applications</td>\n",
       "      <td>77</td>\n",
       "      <td>2016</td>\n",
       "      <td>[Cloud security, Cloud computing, Denial-of-se...</td>\n",
       "      <td>5.273</td>\n",
       "    </tr>\n",
       "    <tr>\n",
       "      <td>138</td>\n",
       "      <td>ieeexplore</td>\n",
       "      <td>A framework for measurability of security</td>\n",
       "      <td>[Seraj Fayyad, Josef Noll]</td>\n",
       "      <td>2017 8th International Conference on Informati...</td>\n",
       "      <td>1</td>\n",
       "      <td>2017</td>\n",
       "      <td>[Security, Measurement, Databases, Privacy, Sy...</td>\n",
       "      <td>0.000</td>\n",
       "    </tr>\n",
       "    <tr>\n",
       "      <td>139</td>\n",
       "      <td>ieeexplore</td>\n",
       "      <td>A Formal Approach Enabling Risk-Aware Business...</td>\n",
       "      <td>[Simon Tjoa, Stefan Jakoubi, Gernot Goluch, Ge...</td>\n",
       "      <td>IEEE Transactions on Services Computing</td>\n",
       "      <td>15</td>\n",
       "      <td>2010</td>\n",
       "      <td>[Security, Unified modeling language, Risk man...</td>\n",
       "      <td>5.707</td>\n",
       "    </tr>\n",
       "    <tr>\n",
       "      <td>140</td>\n",
       "      <td>ieeexplore</td>\n",
       "      <td>The effectiveness of corporate culture toward ...</td>\n",
       "      <td>[Abdullah Almubark, Nobutoshi Hatanaka, Osamu ...</td>\n",
       "      <td>2015 World Congress on Information Technology ...</td>\n",
       "      <td>133</td>\n",
       "      <td>2015</td>\n",
       "      <td>[Decision support systems, Information securit...</td>\n",
       "      <td>0.000</td>\n",
       "    </tr>\n",
       "    <tr>\n",
       "      <td>141</td>\n",
       "      <td>sciencedirect</td>\n",
       "      <td>An evaluation framework for network security v...</td>\n",
       "      <td>[Iman Sharafaldin, Arash Habibi Lashkari, Ali ...</td>\n",
       "      <td>Computers &amp; Security</td>\n",
       "      <td>1</td>\n",
       "      <td>2019</td>\n",
       "      <td>[Information visualization, Network attacks, E...</td>\n",
       "      <td>3.062</td>\n",
       "    </tr>\n",
       "  </tbody>\n",
       "</table>\n",
       "<p>142 rows × 8 columns</p>\n",
       "</div>"
      ],
      "text/plain": [
       "          database                                              title  \\\n",
       "0       ieeexplore  A visualization and modeling tool for security...   \n",
       "1    sciencedirect  Information security requirements – Interpreti...   \n",
       "2       ieeexplore  Cyber security operations centre: Security mon...   \n",
       "3    sciencedirect           Security Management Standards: A Mapping   \n",
       "4    sciencedirect  Mapping the field of software life cycle secur...   \n",
       "..             ...                                                ...   \n",
       "137  sciencedirect    A survey of security issues for cloud computing   \n",
       "138     ieeexplore          A framework for measurability of security   \n",
       "139     ieeexplore  A Formal Approach Enabling Risk-Aware Business...   \n",
       "140     ieeexplore  The effectiveness of corporate culture toward ...   \n",
       "141  sciencedirect  An evaluation framework for network security v...   \n",
       "\n",
       "                                               authors  \\\n",
       "0                    [Reijo M. Savola, Petri Heinonen]   \n",
       "1                  [Mariana Gerber, Rossouw von Solms]   \n",
       "2                                     [Cyril Onwubiko]   \n",
       "3    [Knut Haufe, Ricardo Colomo-Palacios, Srdan Dz...   \n",
       "4    [Patrick Morrison, David Moye, Rahul Pandita, ...   \n",
       "..                                                 ...   \n",
       "137                                [Minhaj Ahmad Khan]   \n",
       "138                         [Seraj Fayyad, Josef Noll]   \n",
       "139  [Simon Tjoa, Stefan Jakoubi, Gernot Goluch, Ge...   \n",
       "140  [Abdullah Almubark, Nobutoshi Hatanaka, Osamu ...   \n",
       "141  [Iman Sharafaldin, Arash Habibi Lashkari, Ali ...   \n",
       "\n",
       "                                               journal  citations  year  \\\n",
       "0           2011 Information Security for South Africa         10  2011   \n",
       "1                                 Computers & Security         21  2008   \n",
       "2    2015 International Conference on Cyber Situati...          6  2015   \n",
       "3                            Procedia Computer Science          0  2016   \n",
       "4                  Information and Software Technology          3  2018   \n",
       "..                                                 ...        ...   ...   \n",
       "137       Journal of Network and Computer Applications         77  2016   \n",
       "138  2017 8th International Conference on Informati...          1  2017   \n",
       "139            IEEE Transactions on Services Computing         15  2010   \n",
       "140  2015 World Congress on Information Technology ...        133  2015   \n",
       "141                               Computers & Security          1  2019   \n",
       "\n",
       "                                              keywords  impact_factor  \n",
       "0    [Measurement, Visualization, Authentication, D...          0.000  \n",
       "1    [Information security, Information security ma...          3.062  \n",
       "2    [Monitoring, Business, Computer crime, System-...          0.000  \n",
       "3    [Information Security, ISMS, Mapping, Processe...          0.000  \n",
       "4                     [Metrics, Measurement, Security]          2.921  \n",
       "..                                                 ...            ...  \n",
       "137  [Cloud security, Cloud computing, Denial-of-se...          5.273  \n",
       "138  [Security, Measurement, Databases, Privacy, Sy...          0.000  \n",
       "139  [Security, Unified modeling language, Risk man...          5.707  \n",
       "140  [Decision support systems, Information securit...          0.000  \n",
       "141  [Information visualization, Network attacks, E...          3.062  \n",
       "\n",
       "[142 rows x 8 columns]"
      ]
     },
     "execution_count": 382,
     "metadata": {},
     "output_type": "execute_result"
    }
   ],
   "source": [
    "df"
   ]
  },
  {
   "cell_type": "code",
   "execution_count": 345,
   "metadata": {},
   "outputs": [],
   "source": [
    "# Number of studies per author"
   ]
  },
  {
   "cell_type": "code",
   "execution_count": null,
   "metadata": {},
   "outputs": [],
   "source": [
    "# Most published authors"
   ]
  },
  {
   "cell_type": "code",
   "execution_count": 235,
   "metadata": {},
   "outputs": [
    {
     "data": {
      "text/plain": [
       "<matplotlib.axes._subplots.AxesSubplot at 0x7f58e4448c10>"
      ]
     },
     "execution_count": 235,
     "metadata": {},
     "output_type": "execute_result"
    },
    {
     "data": {
      "image/png": "[encoded data removed]",
      "text/plain": [
       "<Figure size 432x288 with 1 Axes>"
      ]
     },
     "metadata": {
      "needs_background": "light"
     },
     "output_type": "display_data"
    }
   ],
   "source": [
    "# Time series corelation. x: tiem in years, y: number of studies\n",
    "df.groupby(\"year\").size().plot(kind='bar')"
   ]
  },
  {
   "cell_type": "code",
   "execution_count": 236,
   "metadata": {},
   "outputs": [],
   "source": [
    "# Journal types. Journals of Conference"
   ]
  },
  {
   "cell_type": "code",
   "execution_count": 293,
   "metadata": {},
   "outputs": [
    {
     "data": {
      "text/plain": [
       "<matplotlib.axes._subplots.AxesSubplot at 0x7f58e4648d50>"
      ]
     },
     "execution_count": 293,
     "metadata": {},
     "output_type": "execute_result"
    },
    {
     "data": {
      "image/png": "[encoded data removed]",
      "text/plain": [
       "<Figure size 432x288 with 1 Axes>"
      ]
     },
     "metadata": {
      "needs_background": "light"
     },
     "output_type": "display_data"
    }
   ],
   "source": [
    "# Most published journals. Dropping all values with NotaJournal entry\n",
    "df.groupby(\"journal\").size().drop('NaJ').sort_values().tail(7).plot(kind='barh')"
   ]
  },
  {
   "cell_type": "code",
   "execution_count": 249,
   "metadata": {},
   "outputs": [
    {
     "data": {
      "text/plain": [
       "<matplotlib.axes._subplots.AxesSubplot at 0x7f58e4e1bb90>"
      ]
     },
     "execution_count": 249,
     "metadata": {},
     "output_type": "execute_result"
    },
    {
     "data": {
      "image/png": "[encoded data removed]",
      "text/plain": [
       "<Figure size 432x288 with 1 Axes>"
      ]
     },
     "metadata": {
      "needs_background": "light"
     },
     "output_type": "display_data"
    }
   ],
   "source": [
    "# Found papers in databases\n",
    "used_databases = df[\"database\"].value_counts()\n",
    "used_databases.plot(kind='bar')"
   ]
  },
  {
   "cell_type": "code",
   "execution_count": 250,
   "metadata": {},
   "outputs": [],
   "source": [
    "# Found conference papers. Usually withour an impact factor"
   ]
  },
  {
   "cell_type": "code",
   "execution_count": 301,
   "metadata": {},
   "outputs": [
    {
     "data": {
      "text/plain": [
       "<matplotlib.axes._subplots.AxesSubplot at 0x7f58e7d71150>"
      ]
     },
     "execution_count": 301,
     "metadata": {},
     "output_type": "execute_result"
    },
    {
     "data": {
      "image/png": "[encoded data removed]",
      "text/plain": [
       "<Figure size 432x288 with 1 Axes>"
      ]
     },
     "metadata": {
      "needs_background": "light"
     },
     "output_type": "display_data"
    }
   ],
   "source": [
    "# Shows impact factors and journals that are most commonly used\n",
    "df.groupby([\"impact_factor\", \"journal\"]).size().drop(0.000).sort_values().tail(\n",
    "10).plot(kind='barh')"
   ]
  },
  {
   "cell_type": "code",
   "execution_count": 344,
   "metadata": {},
   "outputs": [
    {
     "data": {
      "text/plain": [
       "<matplotlib.axes._subplots.AxesSubplot at 0x7f58daf9afd0>"
      ]
     },
     "execution_count": 344,
     "metadata": {},
     "output_type": "execute_result"
    },
    {
     "data": {
      "image/png": "[encoded data removed]",
      "text/plain": [
       "<Figure size 432x288 with 1 Axes>"
      ]
     },
     "metadata": {
      "needs_background": "light"
     },
     "output_type": "display_data"
    }
   ],
   "source": [
    "# Show highest impactfactors and journals used\n",
    "# df.loc[:, [\"journal\", \"impact_factor\"]].sort_values(by=\"impact_factor\").tail(18)\n",
    "df.groupby(\"impact_factor\").size().drop(0.000).sort_values().plot(kind='barh')"
   ]
  },
  {
   "cell_type": "code",
   "execution_count": null,
   "metadata": {},
   "outputs": [],
   "source": []
  }
 ],
 "metadata": {
  "kernelspec": {
   "display_name": "Python 3",
   "language": "python",
   "name": "python3"
  },
  "language_info": {
   "codemirror_mode": {
    "name": "ipython",
    "version": 3
   },
   "file_extension": ".py",
   "mimetype": "text/x-python",
   "name": "python",
   "nbconvert_exporter": "python",
   "pygments_lexer": "ipython3",
   "version": "3.7.4"
  }
 },
 "nbformat": 4,
 "nbformat_minor": 2
}
